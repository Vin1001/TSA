{
 "cells": [
  {
   "cell_type": "code",
   "execution_count": 1,
   "id": "de2f8eeb",
   "metadata": {},
   "outputs": [],
   "source": [
    "from IPython.core.debugger import set_trace\n",
    "import pandas as pd\n",
    "import numpy as np\n",
    "import numpy.linalg as la\n",
    "import os\n",
    "import matplotlib.pyplot as plt\n",
    "import time\n",
    "import seaborn as sns\n",
    "from scipy import stats as st\n",
    "from scipy.fft import fft, fftfreq\n",
    "import sys\n",
    "import yfinance as yf\n",
    "from statsmodels.graphics.tsaplots import plot_acf,plot_pacf\n",
    "np.set_printoptions(precision=2)\n",
    "%matplotlib inline\n",
    "plt.style.use(style='seaborn-v0_8')"
   ]
  },
  {
   "cell_type": "code",
   "execution_count": 2,
   "id": "89b640a1",
   "metadata": {},
   "outputs": [
    {
     "data": {
      "text/plain": [
       "\"df1 = pd.read_csv(r'ITC.NS.csv')print(df1.shape)df = df1[['Close']].copy()#df.loc[len(df.index)]=408.3df.to_csv(r'ITC.NS.csv')df.shape\""
      ]
     },
     "execution_count": 2,
     "metadata": {},
     "output_type": "execute_result"
    }
   ],
   "source": [
    "'''df1 = pd.read_csv(r'ITC.NS.csv')print(df1.shape)df = df1[['Close']].copy()#df.loc[len(df.index)]=408.3df.to_csv(r'ITC.NS.csv')df.shape'''"
   ]
  },
  {
   "cell_type": "code",
   "execution_count": 3,
   "id": "3da7a68b",
   "metadata": {
    "notebookRunGroups": {
     "groupValue": "1"
    }
   },
   "outputs": [],
   "source": [
    "def getData(name, per, intrvl, cols = ['Close']):\n",
    "    df = yf.Ticker(name)\n",
    "    df = pd.DataFrame(df.history(period=per, interval=intrvl))\n",
    "    \n",
    "    return df[cols].copy()"
   ]
  },
  {
   "cell_type": "code",
   "execution_count": 4,
   "id": "77a5ce98",
   "metadata": {},
   "outputs": [],
   "source": [
    "def minMax(df, lower, upper):\n",
    "    vec = np.array(df)\n",
    "    #print(df)\n",
    "    for j in np.arange(vec.shape[1]):\n",
    "        min = np.min(vec[:,j])\n",
    "        max = np.max(vec[:,j])\n",
    "        for i in np.arange(vec.shape[0]):\n",
    "            vec[i,j] = ((vec[i,j] - min)/(max-min))*(upper-lower)+lower\n",
    "\n",
    "    return vec\n",
    "\n",
    "inner = lambda a,b: np.prod(a[:]+b[:])\n"
   ]
  },
  {
   "cell_type": "code",
   "execution_count": 5,
   "id": "e71fc132",
   "metadata": {},
   "outputs": [],
   "source": [
    "class LinearRegression:\n",
    "    #multivar linear regression\n",
    "    def __init__(self, df, *cols):\n",
    "        #if len(col)==2:\n",
    "            self.new_mat = pd.DataFrame()\n",
    "            self.columns = np.array(cols)\n",
    "            for col in cols:\n",
    "                self.new_mat[df.iloc[:,col-1:col].columns] = np.array(df.iloc[:,col-1:col])\n",
    "                \n",
    "            self.m = self.new_mat.shape\n",
    "            self.X_train = pd.DataFrame()\n",
    "            self.y_train = pd.DataFrame()\n",
    "            self.U = np.empty([self.m[1],self.m[1]], dtype=float)\n",
    "            self.V = np.empty([self.m[1],1], dtype=float)\n",
    "            self.W = np.empty([self.m[1],1], dtype=float)\n",
    "            \n",
    "        #else:\n",
    "            #print(\"Enter two Columns\")\n",
    "            \n",
    "    def show(self):\n",
    "        display(self.new_mat)\n",
    "        \n",
    "    def target(self, target):\n",
    "        \n",
    "        self.y_train[self.new_mat.iloc[:,target-1:target].columns] = np.array(self.new_mat.iloc[:,target-1:target])\n",
    "        #display(self.y_train)\n",
    "        self.X_train = self.new_mat.drop(self.y_train.columns, axis=1)\n",
    "        #self.X_train['1'] = 1 \n",
    "        sums = np.array([])\n",
    "        for col in np.delete(np.arange(self.m[1]), target-1):\n",
    "            sums = np.append(sums, np.sum(self.new_mat.iloc[:,col]))\n",
    "            \n",
    "        trgt_sum = np.sum(self.new_mat.iloc[:,target-1])  #here\n",
    "        \n",
    "        for i in np.arange(len(sums)):\n",
    "            self.U[0][i] = sums[i]\n",
    "            \n",
    "        self.U[0][-1] = self.new_mat.iloc[:,target-1].count()\n",
    "        \n",
    "        self.V[0][0] = trgt_sum\n",
    "        \n",
    "        for i in np.arange(len(sums)):\n",
    "            for j in np.arange(len(sums)):\n",
    "                self.U[i+1][j] = np.sum(self.X_train.iloc[:,j]/self.X_train.iloc[:,i])\n",
    "                \n",
    "            self.U[i+1][-1] = np.sum(1/self.X_train.iloc[:,i])\n",
    "            self.V[i+1][0] = np.sum(self.y_train.iloc[:,0]/self.X_train.iloc[:,i])   #here\n",
    "                \n",
    "        self.W = la.inv(self.U) @ self.V\n",
    "        #print(self.W)\n",
    "        \n",
    "    def predict(self, *test_data):\n",
    "        pred_val = 0\n",
    "        i = 0\n",
    "        for value in test_data:\n",
    "            pred_val += self.W[i][0]*value\n",
    "            #print(self.W[i][0],value,pred_val)\n",
    "            i+=1\n",
    "        \n",
    "        return pred_val + self.W[-1][0]\n",
    "    \n",
    "    def plot(self, sz=10, wd=1):\n",
    "        if self.X_train.shape[1]==1:\n",
    "            ledgy = list()\n",
    "            y_pred = np.array([])\n",
    "            for i in np.arange(self.m[0]):\n",
    "                 y_pred = np.append(y_pred, self.predict(*tuple(self.X_train.iloc[i,:])))\n",
    "                \n",
    "            for col in np.arange(1,self.m[1]):\n",
    "                plt.scatter((self.X_train.iloc[:,col-1:col]), (self.y_train), color=(np.random.random(),np.random.random(),np.random.random()), s=sz)\n",
    "                ledgy.append(self.X_train.iloc[:1,col-1:col].columns[0])\n",
    "            \n",
    "            plt.plot((self.X_train.iloc[:,:1]), (y_pred), color=(np.random.random(),np.random.random(),np.random.random()), linewidth=wd+0.5)\n",
    "            plt.legend(ledgy, loc=(1,0.7))\n",
    "            plt.ylabel(self.y_train.iloc[:1,:1].columns[0])\n",
    "            plt.show()\n",
    "        else:\n",
    "            return \"Please Enter one on one relation\"\n",
    "    \n",
    "    def error(self,perc=80):\n",
    "        if self.X_train.shape[1]>=-1:\n",
    "            y_pred = np.array([])\n",
    "            for i in np.arange(self.m[0]):\n",
    "                y_pred = np.append(y_pred, self.predict(*tuple(self.X_train.iloc[i,:])))\n",
    "                \n",
    "            #acc = 100 - ((abs(np.reshape(np.array(self.y_train), (self.m[0],))-y_pred)/np.reshape(np.array(self.y_train), (self.m[0],)))*100)\n",
    "            #print(len(abs(np.reshape(np.array(self.y_train), (22,))-y_pred)/np.reshape(np.array(self.y_train), (22,))))\n",
    "            acc = abs(np.reshape(np.array(self.y_train), (self.m[0],))-y_pred)\n",
    "            sns.boxplot(acc)\n",
    "            plt.show()\n",
    "            sns.histplot(acc, kde=True)\n",
    "            plt.show()\n",
    "            print(f'mean:{np.mean(acc)},std:{np.std(acc)}')\n",
    "            return np.percentile(acc,perc)\n",
    "        else:\n",
    "            return \"Please Enter one on one relation\""
   ]
  },
  {
   "cell_type": "code",
   "execution_count": 79,
   "id": "283704b7",
   "metadata": {
    "notebookRunGroups": {
     "groupValue": "1"
    }
   },
   "outputs": [],
   "source": [
    "df1 = getData(name = 'amzn', per= '10d', intrvl= '15m')\n",
    "#df1=df1*(834/28.34)\n",
    "#df1.to_csv('stock_data.csv')\n",
    "#df1 = pd.DataFrame(fft(df1))"
   ]
  },
  {
   "cell_type": "code",
   "execution_count": 80,
   "id": "6676aa28",
   "metadata": {},
   "outputs": [
    {
     "data": {
      "text/plain": [
       "(260, 1)"
      ]
     },
     "execution_count": 80,
     "metadata": {},
     "output_type": "execute_result"
    }
   ],
   "source": [
    "df1.shape"
   ]
  },
  {
   "cell_type": "code",
   "execution_count": 81,
   "id": "8b2ba948",
   "metadata": {
    "scrolled": true
   },
   "outputs": [
    {
     "data": {
      "image/png": "[encoded data removed]",
      "text/plain": [
       "<Figure size 640x480 with 1 Axes>"
      ]
     },
     "metadata": {},
     "output_type": "display_data"
    }
   ],
   "source": [
    "plot_pacf(df1, lags=30);"
   ]
  },
  {
   "cell_type": "code",
   "execution_count": 82,
   "id": "42e32b1b",
   "metadata": {
    "notebookRunGroups": {
     "groupValue": "1"
    }
   },
   "outputs": [],
   "source": [
    "n_lags = 6\n",
    "temp = [df1]+[df1.shift(-i) for i in np.arange(1,n_lags+1)]\n"
   ]
  },
  {
   "cell_type": "code",
   "execution_count": 83,
   "id": "fc1e5ee1",
   "metadata": {
    "notebookRunGroups": {
     "groupValue": "1"
    }
   },
   "outputs": [
    {
     "data": {
      "text/html": [
       "<div>\n",
       "<style scoped>\n",
       "    .dataframe tbody tr th:only-of-type {\n",
       "        vertical-align: middle;\n",
       "    }\n",
       "\n",
       "    .dataframe tbody tr th {\n",
       "        vertical-align: top;\n",
       "    }\n",
       "\n",
       "    .dataframe thead th {\n",
       "        text-align: right;\n",
       "    }\n",
       "</style>\n",
       "<table border=\"1\" class=\"dataframe\">\n",
       "  <thead>\n",
       "    <tr style=\"text-align: right;\">\n",
       "      <th></th>\n",
       "      <th>0</th>\n",
       "      <th>1</th>\n",
       "      <th>2</th>\n",
       "      <th>3</th>\n",
       "      <th>4</th>\n",
       "      <th>5</th>\n",
       "      <th>6</th>\n",
       "    </tr>\n",
       "    <tr>\n",
       "      <th>Datetime</th>\n",
       "      <th></th>\n",
       "      <th></th>\n",
       "      <th></th>\n",
       "      <th></th>\n",
       "      <th></th>\n",
       "      <th></th>\n",
       "      <th></th>\n",
       "    </tr>\n",
       "  </thead>\n",
       "  <tbody>\n",
       "    <tr>\n",
       "      <th>2024-04-12 13:15:00-04:00</th>\n",
       "      <td>185.399994</td>\n",
       "      <td>185.645004</td>\n",
       "      <td>185.699997</td>\n",
       "      <td>185.650803</td>\n",
       "      <td>185.684998</td>\n",
       "      <td>185.670303</td>\n",
       "      <td>185.369995</td>\n",
       "    </tr>\n",
       "    <tr>\n",
       "      <th>2024-04-12 13:30:00-04:00</th>\n",
       "      <td>185.645004</td>\n",
       "      <td>185.699997</td>\n",
       "      <td>185.650803</td>\n",
       "      <td>185.684998</td>\n",
       "      <td>185.670303</td>\n",
       "      <td>185.369995</td>\n",
       "      <td>185.179901</td>\n",
       "    </tr>\n",
       "    <tr>\n",
       "      <th>2024-04-12 13:45:00-04:00</th>\n",
       "      <td>185.699997</td>\n",
       "      <td>185.650803</td>\n",
       "      <td>185.684998</td>\n",
       "      <td>185.670303</td>\n",
       "      <td>185.369995</td>\n",
       "      <td>185.179901</td>\n",
       "      <td>185.319794</td>\n",
       "    </tr>\n",
       "    <tr>\n",
       "      <th>2024-04-12 14:00:00-04:00</th>\n",
       "      <td>185.650803</td>\n",
       "      <td>185.684998</td>\n",
       "      <td>185.670303</td>\n",
       "      <td>185.369995</td>\n",
       "      <td>185.179901</td>\n",
       "      <td>185.319794</td>\n",
       "      <td>185.699997</td>\n",
       "    </tr>\n",
       "    <tr>\n",
       "      <th>2024-04-12 14:15:00-04:00</th>\n",
       "      <td>185.684998</td>\n",
       "      <td>185.670303</td>\n",
       "      <td>185.369995</td>\n",
       "      <td>185.179901</td>\n",
       "      <td>185.319794</td>\n",
       "      <td>185.699997</td>\n",
       "      <td>186.160004</td>\n",
       "    </tr>\n",
       "  </tbody>\n",
       "</table>\n",
       "</div>"
      ],
      "text/plain": [
       "                                    0           1           2           3  \\\n",
       "Datetime                                                                    \n",
       "2024-04-12 13:15:00-04:00  185.399994  185.645004  185.699997  185.650803   \n",
       "2024-04-12 13:30:00-04:00  185.645004  185.699997  185.650803  185.684998   \n",
       "2024-04-12 13:45:00-04:00  185.699997  185.650803  185.684998  185.670303   \n",
       "2024-04-12 14:00:00-04:00  185.650803  185.684998  185.670303  185.369995   \n",
       "2024-04-12 14:15:00-04:00  185.684998  185.670303  185.369995  185.179901   \n",
       "\n",
       "                                    4           5           6  \n",
       "Datetime                                                       \n",
       "2024-04-12 13:15:00-04:00  185.684998  185.670303  185.369995  \n",
       "2024-04-12 13:30:00-04:00  185.670303  185.369995  185.179901  \n",
       "2024-04-12 13:45:00-04:00  185.369995  185.179901  185.319794  \n",
       "2024-04-12 14:00:00-04:00  185.179901  185.319794  185.699997  \n",
       "2024-04-12 14:15:00-04:00  185.319794  185.699997  186.160004  "
      ]
     },
     "execution_count": 83,
     "metadata": {},
     "output_type": "execute_result"
    }
   ],
   "source": [
    "#dff = pd.concat([df1,df1['Close'].shift(-1),df1['Close'].shift(-2),df1['Close'].shift(-3),df1['Close'].shift(-4),df1['Close'].shift(-5),df1['Close'].shift(-6),df1['Close'].shift(-7)], axis=1)\n",
    "\n",
    "cols = [\n",
    "        df1,df1.shift(-1),\n",
    "        df1.shift(-29),\n",
    "        df1.shift(-36),\n",
    "        # df1.shift(-34),\n",
    "        # # df1.shift(-2),\n",
    "        # # df1.shift(-3),\n",
    "        # # df1.shift(-4),\n",
    "        ]\n",
    "\n",
    "cols = temp\n",
    "\n",
    "dff = pd.concat(cols, axis=1)\n",
    "#dff = pd.concat([df1,df1['Close'].shift(-1),df1['Close'].shift(-2),df1['Close'].shift(-3),df1['Close'].shift(-4),df1['Close'].shift(-5)], axis=1)\n",
    "dff.columns = np.arange(len(cols))\n",
    "dff = dff.dropna()\n",
    "dff.tail(5)"
   ]
  },
  {
   "cell_type": "code",
   "execution_count": 84,
   "id": "dda5d2f5",
   "metadata": {},
   "outputs": [],
   "source": [
    "#sns.heatmap(dff.corr(), annot=True, cmap='RdBu')\n",
    "def AGO(df):\n",
    "    cdf = df.copy()\n",
    "    out = pd.DataFrame()\n",
    "    for i in np.arange(cdf.shape[0]):\n",
    "        row = np.array(cdf.iloc[i,:])\n",
    "        #print(len(row))\n",
    "        x= [row[j] - row[j-1] for j in np.arange(1,len(row))]\n",
    "        out[i] = x\n",
    "        #print(pd.Series(x))\n",
    "    return out.T"
   ]
  },
  {
   "cell_type": "code",
   "execution_count": 85,
   "id": "42952ffb",
   "metadata": {
    "notebookRunGroups": {
     "groupValue": "1"
    }
   },
   "outputs": [],
   "source": [
    "n = 0.95\n",
    "size  = int(df1.shape[0]*n)\n",
    "size = dff.shape[0]-20\n",
    "df_train = dff.iloc[:size,:]\n",
    "df_test = dff.iloc[size:,:]"
   ]
  },
  {
   "cell_type": "code",
   "execution_count": 86,
   "id": "a5388db7",
   "metadata": {
    "notebookRunGroups": {
     "groupValue": "1"
    }
   },
   "outputs": [],
   "source": [
    "lr = LinearRegression(df_train, *np.arange(1,len(cols)+1))"
   ]
  },
  {
   "cell_type": "code",
   "execution_count": 87,
   "id": "4a884e1a",
   "metadata": {
    "notebookRunGroups": {
     "groupValue": "1"
    }
   },
   "outputs": [
    {
     "data": {
      "text/plain": [
       "array([1, 2, 3, 4, 5, 6, 7])"
      ]
     },
     "execution_count": 87,
     "metadata": {},
     "output_type": "execute_result"
    }
   ],
   "source": [
    "np.arange(1,len(cols)+1)"
   ]
  },
  {
   "cell_type": "code",
   "execution_count": 88,
   "id": "e4a307eb",
   "metadata": {
    "notebookRunGroups": {
     "groupValue": "1"
    }
   },
   "outputs": [],
   "source": [
    "lr.target(np.arange(1,len(cols)+1)[-1])\n",
    "#lr.show()"
   ]
  },
  {
   "cell_type": "code",
   "execution_count": 89,
   "id": "a3c335b3",
   "metadata": {
    "notebookRunGroups": {
     "groupValue": "1"
    }
   },
   "outputs": [],
   "source": [
    "l = list()\n",
    "rangep = np.array([(400,408.25),(409,411.5),(411.5,412),(412,413)])\n",
    "for i in np.arange(df_test.shape[0]):\n",
    "    l.append(lr.predict(*(df_test.iloc[i,:-1])))\n",
    "l=np.array(l)"
   ]
  },
  {
   "cell_type": "code",
   "execution_count": 90,
   "id": "a4d20da8",
   "metadata": {
    "notebookRunGroups": {
     "groupValue": "1"
    },
    "scrolled": true
   },
   "outputs": [
    {
     "data": {
      "image/png": "[encoded data removed]",
      "text/plain": [
       "<Figure size 640x480 with 1 Axes>"
      ]
     },
     "metadata": {},
     "output_type": "display_data"
    },
    {
     "data": {
      "image/png": "[encoded data removed]",
      "text/plain": [
       "<Figure size 640x480 with 1 Axes>"
      ]
     },
     "metadata": {},
     "output_type": "display_data"
    },
    {
     "name": "stdout",
     "output_type": "stream",
     "text": [
      "mean:0.29578457584106116,std:0.34697403721599984\n"
     ]
    },
    {
     "data": {
      "text/plain": [
       "0.5318162889454185"
      ]
     },
     "execution_count": 90,
     "metadata": {},
     "output_type": "execute_result"
    }
   ],
   "source": [
    "#intv=abs((np.array(df_test.iloc[:,2])-l)).mean()\n",
    "intv=lr.error(85)\n",
    "intv"
   ]
  },
  {
   "cell_type": "code",
   "execution_count": 91,
   "id": "9e6a9eeb",
   "metadata": {},
   "outputs": [],
   "source": [
    "#print(f'predicted:{np.array(l+intv),np.array(l-intv)}')"
   ]
  },
  {
   "cell_type": "code",
   "execution_count": 92,
   "id": "d49cf355",
   "metadata": {
    "scrolled": true
   },
   "outputs": [],
   "source": [
    "def plot_predict(actual,l, intv,t=-1, title = False):\n",
    "    plt.figure(figsize=(5,3.8))\n",
    "    lower,upper = l-intv,l+intv\n",
    "    actual = np.arange(-len(l),len(np.array(df_test.iloc[:,-1])))\n",
    "    #print(actual)\n",
    "    plt.plot(np.array(df_test.iloc[:,t]), c='k', alpha=0.4) #np.array(df_test.iloc[:,-1])\n",
    "    #print(np.array(df_test.iloc[:,-1]))\n",
    "    plt.plot(lower[1:],'r--', label='lower')\n",
    "    plt.plot(l[1:], c='b',label = 'predicted')\n",
    "    plt.plot(upper[1:],'g--', label='upper')\n",
    "    plt.legend(loc='upper left')\n",
    "    if title:\n",
    "        plt.title('My Model')\n",
    "    plt.show()\n",
    "    "
   ]
  },
  {
   "cell_type": "code",
   "execution_count": 93,
   "id": "6106b2ff-c8e7-4f38-87ea-b2b8f9d12535",
   "metadata": {},
   "outputs": [],
   "source": [
    "def forec_tree(prev_days,price, intv, depth, fluctFact=0.25, dr=1):\n",
    "    prev_days = np.append(prev_days, price)\n",
    "    prev_days = prev_days[1:]\n",
    "    udr = 0.8\n",
    "    ldr = 1.25\n",
    "    m = m1 = lr.predict(*prev_days)\n",
    "    #prev_days = np.append(prev_days, m)\n",
    "    up,low = m+intv,m-intv\n",
    "    disth = dr*abs(price-up)\n",
    "    distl = abs(price-low)\n",
    "    factor = distl/(distl+disth)\n",
    "    if depth==-5:\n",
    "        #print(\"in -5\")\n",
    "        return factor\n",
    "        \n",
    "    if depth<=0 and depth>-5:\n",
    "        u = forec_tree(prev_days, price+(fluctFact)*1*intv, intv, depth-1, fluctFact= fluctFact, dr=1 if fluctFact<=0.5 or fluctFact >= 1.2 else udr*dr)\n",
    "        d = forec_tree(prev_days, price+(fluctFact)*1*intv, intv, depth-1, fluctFact= fluctFact, dr=1 if fluctFact<=0.5 or fluctFact >= 1.2 else ldr*dr)\n",
    "        #print(f\"IF {price:7.6} THEN:{factor:5.2},up:{up:7.6},mean:{m1:7.6},low:{low:7.6} d({depth-1})\\n\")\n",
    "        return (factor*u*d)**(1/3)\n",
    "    \n",
    "    elif depth>0:\n",
    "        d = forec_tree(prev_days,price-(fluctFact)*1*intv, intv, depth-1, fluctFact=fluctFact,dr=1 if fluctFact<=0.5 or fluctFact >=1.2 else ldr*dr)\n",
    "        #print(f\"IF {price:7.6} THEN:{factor:5.2},up:{up:7.6},mean:{m1:7.6},low:{low:7.6} d({depth-1})\\n\")\n",
    "        u = forec_tree(prev_days,price+(fluctFact)*1*intv, intv, depth-1, fluctFact=fluctFact,dr=1 if fluctFact<=0.5 or fluctFact >= 1.2 else udr*dr)\n",
    "        factor = (factor*d*u)**(1/3)\n",
    "        print(f\"IF {price:7.6} THEN: {factor:5.2},up:{up:7.6},mean:{m1:7.6},low:{low:7.6} d({depth-1})\\n\")\n",
    "        return factor"
   ]
  },
  {
   "cell_type": "code",
   "execution_count": 94,
   "id": "8fb43dca",
   "metadata": {},
   "outputs": [],
   "source": [
    "def forec(price_today, n_points, t=-1, read=True):\n",
    "    price_today = float(df_test.iloc[t,-1])\n",
    "    prev_days = np.append(np.array(df_test.iloc[t-1,:-1]), price_today)\n",
    "    prev_days = prev_days[1:]\n",
    "    output = np.empty((n_points,4))\n",
    "    #print(prev_days)\n",
    "    for i in np.arange(n_points):\n",
    "        m = m1 = lr.predict(*prev_days)\n",
    "        up,low = m+intv,m-intv\n",
    "        disth = abs(price_today-up)\n",
    "        distl = abs(price_today-low)\n",
    "        factor = distl/(distl+disth)\n",
    "        output[i][0] = factor\n",
    "        output[i][1] = up\n",
    "        output[i][2] = m1\n",
    "        output[i][3] = low\n",
    "        '''if factor<0.47:\n",
    "            m = price_today = (m+(factor*.001*m))\n",
    "        else:\n",
    "            m = price_today = (m-factor*.001*m)'''\n",
    "        price_today = m\n",
    "        prev_days = np.append(np.array(prev_days),price_today)\n",
    "        prev_days = prev_days[1:]\n",
    "        if read:\n",
    "            print(f'[{factor:5.2}, up: {up:7.6}, mean: {m1:7.6}, low: {low:7.6}], {float(df_test.iloc[t,-1]):7.6}')\n",
    "    if read==False:\n",
    "        return output\n"
   ]
  },
  {
   "cell_type": "code",
   "execution_count": 95,
   "id": "a08ea564",
   "metadata": {},
   "outputs": [
    {
     "data": {
      "text/html": [
       "<div>\n",
       "<style scoped>\n",
       "    .dataframe tbody tr th:only-of-type {\n",
       "        vertical-align: middle;\n",
       "    }\n",
       "\n",
       "    .dataframe tbody tr th {\n",
       "        vertical-align: top;\n",
       "    }\n",
       "\n",
       "    .dataframe thead th {\n",
       "        text-align: right;\n",
       "    }\n",
       "</style>\n",
       "<table border=\"1\" class=\"dataframe\">\n",
       "  <thead>\n",
       "    <tr style=\"text-align: right;\">\n",
       "      <th></th>\n",
       "      <th>0</th>\n",
       "      <th>1</th>\n",
       "      <th>2</th>\n",
       "      <th>3</th>\n",
       "      <th>4</th>\n",
       "      <th>5</th>\n",
       "      <th>6</th>\n",
       "    </tr>\n",
       "    <tr>\n",
       "      <th>Datetime</th>\n",
       "      <th></th>\n",
       "      <th></th>\n",
       "      <th></th>\n",
       "      <th></th>\n",
       "      <th></th>\n",
       "      <th></th>\n",
       "      <th></th>\n",
       "    </tr>\n",
       "  </thead>\n",
       "  <tbody>\n",
       "    <tr>\n",
       "      <th>2024-04-12 13:15:00-04:00</th>\n",
       "      <td>185.399994</td>\n",
       "      <td>185.645004</td>\n",
       "      <td>185.699997</td>\n",
       "      <td>185.650803</td>\n",
       "      <td>185.684998</td>\n",
       "      <td>185.670303</td>\n",
       "      <td>185.369995</td>\n",
       "    </tr>\n",
       "    <tr>\n",
       "      <th>2024-04-12 13:30:00-04:00</th>\n",
       "      <td>185.645004</td>\n",
       "      <td>185.699997</td>\n",
       "      <td>185.650803</td>\n",
       "      <td>185.684998</td>\n",
       "      <td>185.670303</td>\n",
       "      <td>185.369995</td>\n",
       "      <td>185.179901</td>\n",
       "    </tr>\n",
       "    <tr>\n",
       "      <th>2024-04-12 13:45:00-04:00</th>\n",
       "      <td>185.699997</td>\n",
       "      <td>185.650803</td>\n",
       "      <td>185.684998</td>\n",
       "      <td>185.670303</td>\n",
       "      <td>185.369995</td>\n",
       "      <td>185.179901</td>\n",
       "      <td>185.319794</td>\n",
       "    </tr>\n",
       "    <tr>\n",
       "      <th>2024-04-12 14:00:00-04:00</th>\n",
       "      <td>185.650803</td>\n",
       "      <td>185.684998</td>\n",
       "      <td>185.670303</td>\n",
       "      <td>185.369995</td>\n",
       "      <td>185.179901</td>\n",
       "      <td>185.319794</td>\n",
       "      <td>185.699997</td>\n",
       "    </tr>\n",
       "    <tr>\n",
       "      <th>2024-04-12 14:15:00-04:00</th>\n",
       "      <td>185.684998</td>\n",
       "      <td>185.670303</td>\n",
       "      <td>185.369995</td>\n",
       "      <td>185.179901</td>\n",
       "      <td>185.319794</td>\n",
       "      <td>185.699997</td>\n",
       "      <td>186.160004</td>\n",
       "    </tr>\n",
       "  </tbody>\n",
       "</table>\n",
       "</div>"
      ],
      "text/plain": [
       "                                    0           1           2           3  \\\n",
       "Datetime                                                                    \n",
       "2024-04-12 13:15:00-04:00  185.399994  185.645004  185.699997  185.650803   \n",
       "2024-04-12 13:30:00-04:00  185.645004  185.699997  185.650803  185.684998   \n",
       "2024-04-12 13:45:00-04:00  185.699997  185.650803  185.684998  185.670303   \n",
       "2024-04-12 14:00:00-04:00  185.650803  185.684998  185.670303  185.369995   \n",
       "2024-04-12 14:15:00-04:00  185.684998  185.670303  185.369995  185.179901   \n",
       "\n",
       "                                    4           5           6  \n",
       "Datetime                                                       \n",
       "2024-04-12 13:15:00-04:00  185.684998  185.670303  185.369995  \n",
       "2024-04-12 13:30:00-04:00  185.670303  185.369995  185.179901  \n",
       "2024-04-12 13:45:00-04:00  185.369995  185.179901  185.319794  \n",
       "2024-04-12 14:00:00-04:00  185.179901  185.319794  185.699997  \n",
       "2024-04-12 14:15:00-04:00  185.319794  185.699997  186.160004  "
      ]
     },
     "execution_count": 95,
     "metadata": {},
     "output_type": "execute_result"
    }
   ],
   "source": [
    "df_test.tail()"
   ]
  },
  {
   "cell_type": "code",
   "execution_count": 96,
   "id": "ea367f61",
   "metadata": {
    "notebookRunGroups": {
     "groupValue": "1"
    }
   },
   "outputs": [
    {
     "name": "stdout",
     "output_type": "stream",
     "text": [
      "[185.68 185.67 185.37 185.18 185.32 185.7 ] 186.16000366210938\n"
     ]
    }
   ],
   "source": [
    "t = -1\n",
    "#-k mean previous k days\n",
    "print(np.array(df_test.iloc[t,:-1]),df_test.iloc[t,-1])\n",
    "#print(np.array([400.14,398.5,398.75,400.23]))\n",
    "#aaj ka close and previous k days ka close, AR(k) here k=5"
   ]
  },
  {
   "cell_type": "code",
   "execution_count": 97,
   "id": "d63e6580",
   "metadata": {},
   "outputs": [
    {
     "name": "stdout",
     "output_type": "stream",
     "text": [
      "0.5985355918429285 Tom_Upper: 186.5870142854889, Tom_Lower: 185.52338170759808, mean:186.05519799654348\n"
     ]
    }
   ],
   "source": [
    "price_today = float(df_test.iloc[t,-1])\n",
    "\n",
    "yesterday = np.array(df_test.iloc[t,:-1])*1 \n",
    "pred_high_today,m,pred_low_today = (lr.predict(*yesterday)+intv,lr.predict(*yesterday),lr.predict(*yesterday)-intv)\n",
    "#decision = [1 if price[-1]<high else 0, 1 if price[-1]<m else 0,  1 if price[-1]<low else 0]\n",
    "#print(price_today<pred_high_today, price_today>pred_low_today)\n",
    "today = list(yesterday[1:])\n",
    "today.append(price_today)\n",
    "today = np.array(today)\n",
    "#print(today)\n",
    "pred_high_tom,m,pred_low_tom = lr.predict(*today)+intv,lr.predict(*today),lr.predict(*today)-intv\n",
    "if price_today<pred_high_today and price_today>pred_low_today:\n",
    "    '''today = list(yesterday[1:])\n",
    "    today.append(price_today)\n",
    "    today = np.array(today)\n",
    "    #print(today)\n",
    "    pred_high_tom,m,pred_low_tom = (lr.predict(*today)+intv,lr.predict(*today),lr.predict(*today)-intv)'''\n",
    "    distfh = abs(price_today-pred_high_tom)#np.sqrt((price_today-pred_high_tom)**2)\n",
    "    distfl = abs(price_today-pred_low_tom)#np.sqrt((price_today-pred_low_tom)**2)\n",
    "    #print(price_today-pred_high_tom,price_today-pred_low_tom)\n",
    "    factor = distfl/(distfh+distfl)\n",
    "    print(factor,f'Tom_Upper: {pred_high_tom}, Tom_Lower: {pred_low_tom}, mean:{m}')\n",
    "\n",
    "else:\n",
    "    sigdhl = abs(price_today-pred_high_today) \n",
    "    sigdfl = abs(price_today-pred_low_today)\n",
    "    \n",
    "    distfh = abs(price_today-pred_high_tom)\n",
    "    distfl= abs(price_today-pred_low_tom)\n",
    "    factor = distfl/(distfl+distfh)\n",
    "    print(f'significance = {sigdhl/intv:4.3}')\n",
    "    print(f'{factor:5.2}',f'Tom_Upper:{pred_high_tom:7.5}, Tom_Lower:{pred_low_tom:7.5}, mean:{m:7.5}, Tod_Upper: {pred_high_today:7.5}, Tod_Lower: {pred_low_today:7.5}')     \n",
    "    #decision boundary is around factor=0.35   \n",
    "    #factor below 0.35 then down \n",
    "    #if significance below 0.4 and above 1 then use pred_tom for dists\n",
    "    #if significance bw 0.4 and 1 then use pred_today for dists"
   ]
  },
  {
   "cell_type": "code",
   "execution_count": 98,
   "id": "394f4845",
   "metadata": {},
   "outputs": [
    {
     "data": {
      "text/plain": [
       "0.26164801754431566"
      ]
     },
     "execution_count": 98,
     "metadata": {},
     "output_type": "execute_result"
    }
   ],
   "source": [
    "\n",
    "#np.append(l,np.array((forec(411.75,7,t=-1,read=False)[:,2])))\n",
    "dev = np.std(minMax(df1.tail(10), 0 , 1))\n",
    "dev"
   ]
  },
  {
   "cell_type": "code",
   "execution_count": 99,
   "id": "2d38dc67",
   "metadata": {
    "notebookRunGroups": {
     "groupValue": "1"
    }
   },
   "outputs": [
    {
     "data": {
      "image/png": "[encoded data removed]",
      "text/plain": [
       "<Figure size 500x380 with 1 Axes>"
      ]
     },
     "metadata": {},
     "output_type": "display_data"
    }
   ],
   "source": [
    "plot_predict(today,np.append(l,np.array((forec(3187.95,6,t=-1,read=False)[:,2]))),intv,t=-1)"
   ]
  },
  {
   "cell_type": "code",
   "execution_count": 100,
   "id": "fe4b090b",
   "metadata": {
    "notebookRunGroups": {
     "groupValue": "1"
    },
    "scrolled": true
   },
   "outputs": [
    {
     "name": "stdout",
     "output_type": "stream",
     "text": [
      "IF 185.882 THEN:  0.49,up:186.416,mean:185.884,low:185.353 d(0)\n",
      "\n",
      "IF  186.16 THEN:  0.49,up:186.677,mean:186.145,low:185.613 d(0)\n",
      "\n",
      "IF 186.021 THEN:   0.5,up:186.507,mean:185.976,low:185.444 d(1)\n",
      "\n",
      "IF  186.16 THEN:  0.48,up:186.703,mean:186.171,low:185.639 d(0)\n",
      "\n",
      "IF 186.438 THEN:  0.49,up:186.963,mean:186.431,low:185.899 d(0)\n",
      "\n",
      "IF 186.299 THEN:  0.51,up:186.768,mean:186.236,low:185.704 d(1)\n",
      "\n",
      "IF  186.16 THEN:  0.54,up:186.587,mean:186.055,low:185.523 d(2)\n",
      "\n"
     ]
    },
    {
     "data": {
      "text/plain": [
       "0.535426276157845"
      ]
     },
     "execution_count": 100,
     "metadata": {},
     "output_type": "execute_result"
    }
   ],
   "source": [
    "t=-1\n",
    "prev_days = np.array(df_test.iloc[t,:-1])\n",
    "forec_tree(prev_days,float(df_test.iloc[t,-1]),\n",
    "           intv,\n",
    "           depth=3,\n",
    "           fluctFact= dev*1)\n"
   ]
  },
  {
   "cell_type": "code",
   "execution_count": 101,
   "id": "24621400",
   "metadata": {
    "notebookRunGroups": {
     "groupValue": "1"
    }
   },
   "outputs": [
    {
     "name": "stdout",
     "output_type": "stream",
     "text": [
      "[ 0.56, up: 186.627, mean: 186.095, low: 185.563],  186.16\n",
      "[ 0.55, up:  186.57, mean: 186.038, low: 185.506],  186.16\n",
      "[ 0.59, up: 186.478, mean: 185.946, low: 185.414],  186.16\n"
     ]
    }
   ],
   "source": [
    "forec(3187.95,3,t=t )"
   ]
  },
  {
   "cell_type": "code",
   "execution_count": 102,
   "id": "91c06a69",
   "metadata": {
    "notebookRunGroups": {
     "groupValue": "1"
    },
    "scrolled": true
   },
   "outputs": [
    {
     "data": {
      "text/html": [
       "<div>\n",
       "<style scoped>\n",
       "    .dataframe tbody tr th:only-of-type {\n",
       "        vertical-align: middle;\n",
       "    }\n",
       "\n",
       "    .dataframe tbody tr th {\n",
       "        vertical-align: top;\n",
       "    }\n",
       "\n",
       "    .dataframe thead th {\n",
       "        text-align: right;\n",
       "    }\n",
       "</style>\n",
       "<table border=\"1\" class=\"dataframe\">\n",
       "  <thead>\n",
       "    <tr style=\"text-align: right;\">\n",
       "      <th></th>\n",
       "      <th>Close</th>\n",
       "    </tr>\n",
       "    <tr>\n",
       "      <th>Datetime</th>\n",
       "      <th></th>\n",
       "    </tr>\n",
       "  </thead>\n",
       "  <tbody>\n",
       "    <tr>\n",
       "      <th>2024-04-12 13:30:00-04:00</th>\n",
       "      <td>185.645004</td>\n",
       "    </tr>\n",
       "    <tr>\n",
       "      <th>2024-04-12 13:45:00-04:00</th>\n",
       "      <td>185.699997</td>\n",
       "    </tr>\n",
       "    <tr>\n",
       "      <th>2024-04-12 14:00:00-04:00</th>\n",
       "      <td>185.650803</td>\n",
       "    </tr>\n",
       "    <tr>\n",
       "      <th>2024-04-12 14:15:00-04:00</th>\n",
       "      <td>185.684998</td>\n",
       "    </tr>\n",
       "    <tr>\n",
       "      <th>2024-04-12 14:30:00-04:00</th>\n",
       "      <td>185.670303</td>\n",
       "    </tr>\n",
       "    <tr>\n",
       "      <th>2024-04-12 14:45:00-04:00</th>\n",
       "      <td>185.369995</td>\n",
       "    </tr>\n",
       "    <tr>\n",
       "      <th>2024-04-12 15:00:00-04:00</th>\n",
       "      <td>185.179901</td>\n",
       "    </tr>\n",
       "    <tr>\n",
       "      <th>2024-04-12 15:15:00-04:00</th>\n",
       "      <td>185.319794</td>\n",
       "    </tr>\n",
       "    <tr>\n",
       "      <th>2024-04-12 15:30:00-04:00</th>\n",
       "      <td>185.699997</td>\n",
       "    </tr>\n",
       "    <tr>\n",
       "      <th>2024-04-12 15:45:00-04:00</th>\n",
       "      <td>186.160004</td>\n",
       "    </tr>\n",
       "  </tbody>\n",
       "</table>\n",
       "</div>"
      ],
      "text/plain": [
       "                                Close\n",
       "Datetime                             \n",
       "2024-04-12 13:30:00-04:00  185.645004\n",
       "2024-04-12 13:45:00-04:00  185.699997\n",
       "2024-04-12 14:00:00-04:00  185.650803\n",
       "2024-04-12 14:15:00-04:00  185.684998\n",
       "2024-04-12 14:30:00-04:00  185.670303\n",
       "2024-04-12 14:45:00-04:00  185.369995\n",
       "2024-04-12 15:00:00-04:00  185.179901\n",
       "2024-04-12 15:15:00-04:00  185.319794\n",
       "2024-04-12 15:30:00-04:00  185.699997\n",
       "2024-04-12 15:45:00-04:00  186.160004"
      ]
     },
     "execution_count": 102,
     "metadata": {},
     "output_type": "execute_result"
    }
   ],
   "source": [
    "df1.tail(10)"
   ]
  },
  {
   "cell_type": "code",
   "execution_count": 103,
   "id": "c2860e0d",
   "metadata": {},
   "outputs": [],
   "source": [
    "from PIL import Image"
   ]
  },
  {
   "cell_type": "code",
   "execution_count": 104,
   "id": "b123103e",
   "metadata": {},
   "outputs": [],
   "source": [
    "def convolve2D(sqmat,conmat):\n",
    "    conshape = conmat.shape[0]\n",
    "    sqmat = sqmat[:(conshape*(sqmat.shape[0]//conshape)), :(conshape*(sqmat.shape[1]//conshape))]\n",
    "    newmat = np.empty(shape=(sqmat.shape[0]-conshape//2,sqmat.shape[0]-conshape//2))\n",
    "    for row in np.arange(conshape//2,sqmat.shape[0]-(conshape//2)-1):\n",
    "        for col in np.arange(conshape//2,sqmat.shape[0]-(conshape//2)-1):\n",
    "            mini = np.array([[sqmat[i,j] for i in np.arange(row-(conshape//2), row+(conshape//2)+1)] for j in np.arange(col-(conshape//2), col+(conshape//2)+1)])\n",
    "            newmat[row,col] = np.sum([[mini[i,j]*conmat[i,j] for i in np.arange(conshape)] for j in np.arange(conshape)])\n",
    "    \n",
    "    return newmat\n"
   ]
  },
  {
   "cell_type": "code",
   "execution_count": 105,
   "id": "fabe3d8f-088e-464a-9554-53012856e7be",
   "metadata": {},
   "outputs": [],
   "source": [
    "def minmaxImager(df, lower=0,upper=16, convolve = False):\n",
    "    vec = minMax(df, lower, upper)\n",
    "    sqmat = vec @ vec.T\n",
    "    #print(sqmat.shape)\n",
    "    if isinstance(convolve,np.ndarray):\n",
    "        conmat = np.array(convolve)\n",
    "        cmat = convolve2D(sqmat=sqmat, conmat=conmat)\n",
    "        img = Image.fromarray(cmat)\n",
    "        return img.show()\n",
    "    else:\n",
    "        img = Image.fromarray(sqmat)\n",
    "        return img.show()"
   ]
  },
  {
   "cell_type": "code",
   "execution_count": 106,
   "id": "a119e61a",
   "metadata": {},
   "outputs": [],
   "source": [
    "col = [\n",
    "    'High',\n",
    "    #'Close',\n",
    "    'Low'\n",
    "       ]\n",
    "df = getData('usdinr=x', per = '3wk', intrvl='15m',cols=col)\n",
    "df = df if len(col)==1 else np.array(abs(df.iloc[:,0:1]))-np.array(abs(df.iloc[:,1:2]))\n",
    "#df"
   ]
  },
  {
   "cell_type": "code",
   "execution_count": 107,
   "id": "0fa79725",
   "metadata": {},
   "outputs": [],
   "source": [
    "weights=np.reshape(lr.W, (lr.W.shape[0],))"
   ]
  },
  {
   "cell_type": "code",
   "execution_count": 108,
   "id": "9a514c84",
   "metadata": {},
   "outputs": [],
   "source": [
    "def MSE(w,X,y_true, diff=False):\n",
    "    y_pred = np.empty((y_true.shape[0],))\n",
    "    for row in np.arange(X.shape[0]):\n",
    "        #z = np.array(X.iloc[row,:]).T @ w[:-1]- 1*w[-1]\n",
    "        y_pred[row] = (np.array(X.iloc[row,:]) @ w[:-1].T)+ 1*w[-1]\n",
    "        #print(np.array(X.iloc[row,:]) , w[:-1].T, 1*w[-1])\n",
    "        #break\n",
    "        \n",
    "    #MSE = ((np.array(lr.y_train).reshape(lr.y_train.shape[0],)-y_pred)**2)\n",
    "    if diff:\n",
    "        MSE = (np.array(lr.y_train).reshape(lr.y_train.shape[0],)-y_pred)\n",
    "        return MSE.mean()\n",
    "    else:\n",
    "        MSE = ((np.array(lr.y_train).reshape(lr.y_train.shape[0],)-y_pred)**2)\n",
    "        return MSE.mean()"
   ]
  },
  {
   "cell_type": "code",
   "execution_count": 109,
   "id": "d7819658",
   "metadata": {},
   "outputs": [
    {
     "data": {
      "text/plain": [
       "0.20787949780744647"
      ]
     },
     "execution_count": 109,
     "metadata": {},
     "output_type": "execute_result"
    }
   ],
   "source": [
    "MSE(weights,lr.X_train,lr.y_train,diff=False)"
   ]
  },
  {
   "cell_type": "code",
   "execution_count": 110,
   "id": "a761e253",
   "metadata": {},
   "outputs": [],
   "source": [
    "a = MSE(weights,lr.X_train,lr.y_train,diff=True)"
   ]
  },
  {
   "cell_type": "code",
   "execution_count": 111,
   "id": "00deff33",
   "metadata": {},
   "outputs": [
    {
     "data": {
      "text/plain": [
       "array([-0.22,  0.18,  0.07, -0.09,  0.09,  0.94,  4.41])"
      ]
     },
     "execution_count": 111,
     "metadata": {},
     "output_type": "execute_result"
    }
   ],
   "source": [
    "weights"
   ]
  },
  {
   "cell_type": "code",
   "execution_count": 112,
   "id": "5602c412",
   "metadata": {},
   "outputs": [],
   "source": [
    "import autobnn as ab\n",
    "import jax\n",
    "model = ab.operators.Add(\n",
    "    bnns=(ab.kernels.PeriodicBNN(width=n_lags,period=n_lags),\n",
    "          ab.kernels.OneLayerBNN(width=n_lags, period=n_lags),\n",
    "          ab.kernels.LinearBNN(width=n_lags),\n",
    "          ab.kernels.MaternBNN(width=n_lags)))\n",
    "\n",
    "estimator = ab.estimators.AutoBnnMapEstimator(\n",
    "    model, 'normal_likelihood_logistic_noise', jax.random.PRNGKey(42),\n",
    "    periods=[n_lags])"
   ]
  },
  {
   "cell_type": "code",
   "execution_count": 113,
   "id": "726dfdcf",
   "metadata": {},
   "outputs": [],
   "source": [
    "from sklearn.model_selection import train_test_split"
   ]
  },
  {
   "cell_type": "code",
   "execution_count": 114,
   "id": "1126a4d4",
   "metadata": {},
   "outputs": [
    {
     "data": {
      "text/plain": [
       "<autobnn.estimators.AutoBnnMapEstimator at 0x1f5e0a31900>"
      ]
     },
     "execution_count": 114,
     "metadata": {},
     "output_type": "execute_result"
    }
   ],
   "source": [
    "X = np.array(dff.drop(n_lags,axis=1))\n",
    "y = np.array(dff[n_lags])\n",
    "estimator.fit(X[:-20], y)"
   ]
  },
  {
   "cell_type": "code",
   "execution_count": 116,
   "id": "2f5e48ff",
   "metadata": {},
   "outputs": [],
   "source": [
    "lowb, mid, highb = estimator.predict_quantiles(X[-20:],(10,50,90))\n",
    "p = estimator.predict(X[-20:])"
   ]
  },
  {
   "cell_type": "code",
   "execution_count": null,
   "id": "2049a318",
   "metadata": {},
   "outputs": [],
   "source": [
    "# print(np.mean((abs(np.array(df1.tail(20))-mid))))"
   ]
  },
  {
   "cell_type": "code",
   "execution_count": 117,
   "id": "2ca98f51",
   "metadata": {},
   "outputs": [
    {
     "data": {
      "text/plain": [
       "<matplotlib.legend.Legend at 0x1f6191bec50>"
      ]
     },
     "execution_count": 117,
     "metadata": {},
     "output_type": "execute_result"
    },
    {
     "data": {
      "image/png": "[encoded data removed]",
      "text/plain": [
       "<Figure size 640x480 with 1 Axes>"
      ]
     },
     "metadata": {},
     "output_type": "display_data"
    }
   ],
   "source": [
    "show = 20\n",
    "x = np.arange(1,show+1)\n",
    "plt.plot(np.array(df1.tail(show)),c='k', alpha=0.4)\n",
    "plt.plot(mid,)\n",
    "plt.plot(lowb, '--r')\n",
    "plt.plot(highb, '--g')\n",
    "plt.title('AutoBNN')\n",
    "plt.legend(['Actual','Predicted','Lower','Upper'])"
   ]
  },
  {
   "cell_type": "code",
   "execution_count": 131,
   "id": "16d7baf7",
   "metadata": {},
   "outputs": [
    {
     "data": {
      "image/png": "[encoded data removed]",
      "text/plain": [
       "<Figure size 800x400 with 1 Axes>"
      ]
     },
     "metadata": {},
     "output_type": "display_data"
    }
   ],
   "source": [
    "plt.style.use(style='default')\n",
    "forecast_index = range(len(df1)-20,len(df1))\n",
    "plt.figure(figsize=(8, 4))\n",
    "plt.plot(np.array(df1.head(len(df1)-19)), color=\"green\", label=\"historical data (training)\")\n",
    "plt.plot(forecast_index,np.array(df1.tail(20)), color=\"royalblue\", label=\"historical data (testing)\")\n",
    "plt.plot(forecast_index, l, color=\"tomato\", label=\"median forecast\")\n",
    "plt.fill_between(forecast_index, l-intv, l+intv, color=\"tomato\", alpha=0.3, label=\"80% prediction interval\")\n",
    "plt.legend(loc=\"upper left\")\n",
    "plt.title(\"This Model\")\n",
    "plt.grid(True)\n",
    "plt.show()"
   ]
  },
  {
   "cell_type": "code",
   "execution_count": 124,
   "id": "f509a571",
   "metadata": {},
   "outputs": [],
   "source": [
    "import torch\n",
    "from chronos import ChronosPipeline"
   ]
  },
  {
   "cell_type": "code",
   "execution_count": 125,
   "id": "7786d437",
   "metadata": {},
   "outputs": [],
   "source": [
    "# for plotting, run: pip install pandas matplotlib\n",
    "\n",
    "pipeline = ChronosPipeline.from_pretrained(\n",
    "    \"amazon/chronos-t5-small\",\n",
    "    device_map=\"cuda\",  # use \"cpu\" for CPU inference and \"mps\" for Apple Silicon\n",
    "    torch_dtype=torch.bfloat16,\n",
    ")\n",
    "\n",
    "df = getData(name = 'tsla', per= '10d', intrvl= '15m')\n",
    "prediction_length = 20\n",
    "n_lags = 21\n",
    "df_train = df.head(len(df)-prediction_length)\n",
    "df_test = df.tail(prediction_length)\n",
    "# context must be either a 1D tensor, a list of 1D tensors,\n",
    "# or a left-padded 2D tensor with batch as the first dimension\n",
    "context = torch.tensor(df_train.to_numpy())\n",
    "\n",
    "forecast = pipeline.predict(\n",
    "    context,\n",
    "    prediction_length,\n",
    "    num_samples=n_lags,\n",
    "    temperature=1.0,\n",
    "    top_k=100,\n",
    "    top_p=50,\n",
    ") # forecast shape: [num_series, num_samples, prediction_length]"
   ]
  },
  {
   "cell_type": "code",
   "execution_count": 133,
   "id": "9e03280a",
   "metadata": {},
   "outputs": [
    {
     "data": {
      "image/png": "[encoded data removed]",
      "text/plain": [
       "<Figure size 800x400 with 1 Axes>"
      ]
     },
     "metadata": {},
     "output_type": "display_data"
    }
   ],
   "source": [
    "# visualize the forecast\n",
    "plt.style.use(style='default')\n",
    "#forecast_index = range(len(df_train), len(df_train) + prediction_length)\n",
    "low, median, high = np.quantile(forecast[0].numpy(), [0.25, 0.5, 0.75], axis=0)\n",
    "\n",
    "plt.figure(figsize=(8, 4))\n",
    "plt.plot(np.array(df1.head(len(df1)-19)), color=\"green\", label=\"historical data (training)\")\n",
    "plt.plot(forecast_index,np.array(df1.tail(20)), color=\"royalblue\", label=\"historical data (testing)\")\n",
    "plt.plot(forecast_index, median, color=\"tomato\", label=\"median forecast\")\n",
    "plt.fill_between(forecast_index, low, high, color=\"tomato\", alpha=0.3, label=\"50% prediction interval\")\n",
    "plt.legend(loc=\"upper left\")\n",
    "plt.title('Amazon Chronos')\n",
    "plt.grid()\n",
    "plt.show()"
   ]
  },
  {
   "cell_type": "code",
   "execution_count": 127,
   "id": "8c3b8657",
   "metadata": {},
   "outputs": [
    {
     "data": {
      "text/html": [
       "<div>\n",
       "<style scoped>\n",
       "    .dataframe tbody tr th:only-of-type {\n",
       "        vertical-align: middle;\n",
       "    }\n",
       "\n",
       "    .dataframe tbody tr th {\n",
       "        vertical-align: top;\n",
       "    }\n",
       "\n",
       "    .dataframe thead th {\n",
       "        text-align: right;\n",
       "    }\n",
       "</style>\n",
       "<table border=\"1\" class=\"dataframe\">\n",
       "  <thead>\n",
       "    <tr style=\"text-align: right;\">\n",
       "      <th></th>\n",
       "      <th>Close</th>\n",
       "    </tr>\n",
       "    <tr>\n",
       "      <th>Datetime</th>\n",
       "      <th></th>\n",
       "    </tr>\n",
       "  </thead>\n",
       "  <tbody>\n",
       "    <tr>\n",
       "      <th>2024-04-12 09:45:00-04:00</th>\n",
       "      <td>188.160004</td>\n",
       "    </tr>\n",
       "    <tr>\n",
       "      <th>2024-04-12 10:00:00-04:00</th>\n",
       "      <td>187.494995</td>\n",
       "    </tr>\n",
       "    <tr>\n",
       "      <th>2024-04-12 10:15:00-04:00</th>\n",
       "      <td>187.100006</td>\n",
       "    </tr>\n",
       "    <tr>\n",
       "      <th>2024-04-12 10:30:00-04:00</th>\n",
       "      <td>186.729996</td>\n",
       "    </tr>\n",
       "    <tr>\n",
       "      <th>2024-04-12 10:45:00-04:00</th>\n",
       "      <td>186.380005</td>\n",
       "    </tr>\n",
       "    <tr>\n",
       "      <th>2024-04-12 11:00:00-04:00</th>\n",
       "      <td>186.720001</td>\n",
       "    </tr>\n",
       "    <tr>\n",
       "      <th>2024-04-12 11:15:00-04:00</th>\n",
       "      <td>187.470001</td>\n",
       "    </tr>\n",
       "    <tr>\n",
       "      <th>2024-04-12 11:30:00-04:00</th>\n",
       "      <td>187.399994</td>\n",
       "    </tr>\n",
       "    <tr>\n",
       "      <th>2024-04-12 11:45:00-04:00</th>\n",
       "      <td>187.309998</td>\n",
       "    </tr>\n",
       "    <tr>\n",
       "      <th>2024-04-12 12:00:00-04:00</th>\n",
       "      <td>186.309998</td>\n",
       "    </tr>\n",
       "    <tr>\n",
       "      <th>2024-04-12 12:15:00-04:00</th>\n",
       "      <td>185.990005</td>\n",
       "    </tr>\n",
       "    <tr>\n",
       "      <th>2024-04-12 12:30:00-04:00</th>\n",
       "      <td>185.509995</td>\n",
       "    </tr>\n",
       "    <tr>\n",
       "      <th>2024-04-12 12:45:00-04:00</th>\n",
       "      <td>185.710007</td>\n",
       "    </tr>\n",
       "    <tr>\n",
       "      <th>2024-04-12 13:00:00-04:00</th>\n",
       "      <td>185.610001</td>\n",
       "    </tr>\n",
       "    <tr>\n",
       "      <th>2024-04-12 13:15:00-04:00</th>\n",
       "      <td>185.399994</td>\n",
       "    </tr>\n",
       "    <tr>\n",
       "      <th>2024-04-12 13:30:00-04:00</th>\n",
       "      <td>185.645004</td>\n",
       "    </tr>\n",
       "    <tr>\n",
       "      <th>2024-04-12 13:45:00-04:00</th>\n",
       "      <td>185.699997</td>\n",
       "    </tr>\n",
       "    <tr>\n",
       "      <th>2024-04-12 14:00:00-04:00</th>\n",
       "      <td>185.650803</td>\n",
       "    </tr>\n",
       "    <tr>\n",
       "      <th>2024-04-12 14:15:00-04:00</th>\n",
       "      <td>185.684998</td>\n",
       "    </tr>\n",
       "    <tr>\n",
       "      <th>2024-04-12 14:30:00-04:00</th>\n",
       "      <td>185.670303</td>\n",
       "    </tr>\n",
       "    <tr>\n",
       "      <th>2024-04-12 14:45:00-04:00</th>\n",
       "      <td>185.369995</td>\n",
       "    </tr>\n",
       "    <tr>\n",
       "      <th>2024-04-12 15:00:00-04:00</th>\n",
       "      <td>185.179901</td>\n",
       "    </tr>\n",
       "    <tr>\n",
       "      <th>2024-04-12 15:15:00-04:00</th>\n",
       "      <td>185.319794</td>\n",
       "    </tr>\n",
       "    <tr>\n",
       "      <th>2024-04-12 15:30:00-04:00</th>\n",
       "      <td>185.699997</td>\n",
       "    </tr>\n",
       "    <tr>\n",
       "      <th>2024-04-12 15:45:00-04:00</th>\n",
       "      <td>186.160004</td>\n",
       "    </tr>\n",
       "  </tbody>\n",
       "</table>\n",
       "</div>"
      ],
      "text/plain": [
       "                                Close\n",
       "Datetime                             \n",
       "2024-04-12 09:45:00-04:00  188.160004\n",
       "2024-04-12 10:00:00-04:00  187.494995\n",
       "2024-04-12 10:15:00-04:00  187.100006\n",
       "2024-04-12 10:30:00-04:00  186.729996\n",
       "2024-04-12 10:45:00-04:00  186.380005\n",
       "2024-04-12 11:00:00-04:00  186.720001\n",
       "2024-04-12 11:15:00-04:00  187.470001\n",
       "2024-04-12 11:30:00-04:00  187.399994\n",
       "2024-04-12 11:45:00-04:00  187.309998\n",
       "2024-04-12 12:00:00-04:00  186.309998\n",
       "2024-04-12 12:15:00-04:00  185.990005\n",
       "2024-04-12 12:30:00-04:00  185.509995\n",
       "2024-04-12 12:45:00-04:00  185.710007\n",
       "2024-04-12 13:00:00-04:00  185.610001\n",
       "2024-04-12 13:15:00-04:00  185.399994\n",
       "2024-04-12 13:30:00-04:00  185.645004\n",
       "2024-04-12 13:45:00-04:00  185.699997\n",
       "2024-04-12 14:00:00-04:00  185.650803\n",
       "2024-04-12 14:15:00-04:00  185.684998\n",
       "2024-04-12 14:30:00-04:00  185.670303\n",
       "2024-04-12 14:45:00-04:00  185.369995\n",
       "2024-04-12 15:00:00-04:00  185.179901\n",
       "2024-04-12 15:15:00-04:00  185.319794\n",
       "2024-04-12 15:30:00-04:00  185.699997\n",
       "2024-04-12 15:45:00-04:00  186.160004"
      ]
     },
     "execution_count": 127,
     "metadata": {},
     "output_type": "execute_result"
    }
   ],
   "source": [
    "df1.tail(25)"
   ]
  },
  {
   "cell_type": "code",
   "execution_count": null,
   "id": "f1edc881",
   "metadata": {},
   "outputs": [],
   "source": []
  },
  {
   "cell_type": "code",
   "execution_count": null,
   "id": "864a072b",
   "metadata": {},
   "outputs": [],
   "source": []
  },
  {
   "cell_type": "code",
   "execution_count": null,
   "id": "08eaed08",
   "metadata": {},
   "outputs": [],
   "source": []
  },
  {
   "cell_type": "code",
   "execution_count": null,
   "id": "3b33f1a7",
   "metadata": {},
   "outputs": [],
   "source": []
  },
  {
   "cell_type": "code",
   "execution_count": null,
   "id": "e1f41533",
   "metadata": {},
   "outputs": [],
   "source": []
  },
  {
   "cell_type": "code",
   "execution_count": null,
   "id": "0101915d",
   "metadata": {},
   "outputs": [],
   "source": []
  },
  {
   "cell_type": "code",
   "execution_count": null,
   "id": "fb513591",
   "metadata": {},
   "outputs": [],
   "source": []
  },
  {
   "cell_type": "code",
   "execution_count": null,
   "id": "005f7791",
   "metadata": {},
   "outputs": [],
   "source": []
  },
  {
   "cell_type": "code",
   "execution_count": null,
   "id": "5358ef66",
   "metadata": {},
   "outputs": [],
   "source": []
  }
 ],
 "metadata": {
  "kernelspec": {
   "display_name": "Python 3 (ipykernel)",
   "language": "python",
   "name": "python3"
  },
  "language_info": {
   "codemirror_mode": {
    "name": "ipython",
    "version": 3
   },
   "file_extension": ".py",
   "mimetype": "text/x-python",
   "name": "python",
   "nbconvert_exporter": "python",
   "pygments_lexer": "ipython3",
   "version": "3.10.11"
  }
 },
 "nbformat": 4,
 "nbformat_minor": 5
}
