{
 "cells": [
  {
   "cell_type": "code",
   "execution_count": 2,
   "id": "de2f8eeb",
   "metadata": {},
   "outputs": [],
   "source": [
    "from IPython.core.debugger import set_trace\n",
    "import pandas as pd\n",
    "import numpy as np\n",
    "import numpy.linalg as la\n",
    "import os\n",
    "import matplotlib.pyplot as plt\n",
    "import time\n",
    "import seaborn as sns\n",
    "from scipy import stats as st\n",
    "from scipy.fft import fft, fftfreq\n",
    "import sys\n",
    "import yfinance as yf\n",
    "from statsmodels.graphics.tsaplots import plot_acf,plot_pacf\n",
    "np.set_printoptions(precision=2)\n",
    "%matplotlib inline\n",
    "plt.style.use(style='seaborn-v0_8')"
   ]
  },
  {
   "cell_type": "code",
   "execution_count": 3,
   "id": "89b640a1",
   "metadata": {},
   "outputs": [
    {
     "data": {
      "text/plain": [
       "\"df1 = pd.read_csv(r'ITC.NS.csv')print(df1.shape)df = df1[['Close']].copy()#df.loc[len(df.index)]=408.3df.to_csv(r'ITC.NS.csv')df.shape\""
      ]
     },
     "execution_count": 3,
     "metadata": {},
     "output_type": "execute_result"
    }
   ],
   "source": [
    "'''df1 = pd.read_csv(r'ITC.NS.csv')print(df1.shape)df = df1[['Close']].copy()#df.loc[len(df.index)]=408.3df.to_csv(r'ITC.NS.csv')df.shape'''"
   ]
  },
  {
   "cell_type": "code",
   "execution_count": 4,
   "id": "3da7a68b",
   "metadata": {
    "notebookRunGroups": {
     "groupValue": "1"
    }
   },
   "outputs": [],
   "source": [
    "def getData(name, per, intrvl, cols = ['Close']):\n",
    "    df = yf.Ticker(name)\n",
    "    df = pd.DataFrame(df.history(period=per, interval=intrvl))\n",
    "    \n",
    "    return df[cols].copy()"
   ]
  },
  {
   "cell_type": "code",
   "execution_count": 5,
   "id": "77a5ce98",
   "metadata": {},
   "outputs": [],
   "source": [
    "def minMax(df, lower, upper):\n",
    "    vec = np.array(df)\n",
    "    #print(df)\n",
    "    for j in np.arange(vec.shape[1]):\n",
    "        min = np.min(vec[:,j])\n",
    "        max = np.max(vec[:,j])\n",
    "        for i in np.arange(vec.shape[0]):\n",
    "            vec[i,j] = ((vec[i,j] - min)/(max-min))*(upper-lower)+lower\n",
    "\n",
    "    return vec\n",
    "\n",
    "inner = lambda a,b: np.prod(a[:]+b[:])\n"
   ]
  },
  {
   "cell_type": "code",
   "execution_count": 6,
   "id": "e71fc132",
   "metadata": {},
   "outputs": [],
   "source": [
    "class LinearRegression:\n",
    "    #multivar linear regression\n",
    "    def __init__(self, df, *cols):\n",
    "        #if len(col)==2:\n",
    "            self.new_mat = pd.DataFrame()\n",
    "            self.columns = np.array(cols)\n",
    "            for col in cols:\n",
    "                self.new_mat[df.iloc[:,col-1:col].columns] = np.array(df.iloc[:,col-1:col])\n",
    "                \n",
    "            self.m = self.new_mat.shape\n",
    "            self.X_train = pd.DataFrame()\n",
    "            self.y_train = pd.DataFrame()\n",
    "            self.U = np.empty([self.m[1],self.m[1]], dtype=float)\n",
    "            self.V = np.empty([self.m[1],1], dtype=float)\n",
    "            self.W = np.empty([self.m[1],1], dtype=float)\n",
    "            \n",
    "        #else:\n",
    "            #print(\"Enter two Columns\")\n",
    "            \n",
    "    def show(self):\n",
    "        display(self.new_mat)\n",
    "        \n",
    "    def target(self, target):\n",
    "        \n",
    "        self.y_train[self.new_mat.iloc[:,target-1:target].columns] = np.array(self.new_mat.iloc[:,target-1:target])\n",
    "        #display(self.y_train)\n",
    "        self.X_train = self.new_mat.drop(self.y_train.columns, axis=1)\n",
    "        #self.X_train['1'] = 1 \n",
    "        sums = np.array([])\n",
    "        for col in np.delete(np.arange(self.m[1]), target-1):\n",
    "            sums = np.append(sums, np.sum(self.new_mat.iloc[:,col]))\n",
    "            \n",
    "        trgt_sum = np.sum(self.new_mat.iloc[:,target-1])  #here\n",
    "        \n",
    "        for i in np.arange(len(sums)):\n",
    "            self.U[0][i] = sums[i]\n",
    "            \n",
    "        self.U[0][-1] = self.new_mat.iloc[:,target-1].count()\n",
    "        \n",
    "        self.V[0][0] = trgt_sum\n",
    "        \n",
    "        for i in np.arange(len(sums)):\n",
    "            for j in np.arange(len(sums)):\n",
    "                self.U[i+1][j] = np.sum(self.X_train.iloc[:,j]/self.X_train.iloc[:,i])\n",
    "                \n",
    "            self.U[i+1][-1] = np.sum(1/self.X_train.iloc[:,i])\n",
    "            self.V[i+1][0] = np.sum(self.y_train.iloc[:,0]/self.X_train.iloc[:,i])   #here\n",
    "                \n",
    "        self.W = la.inv(self.U) @ self.V\n",
    "        #print(self.W)\n",
    "        \n",
    "    def predict(self, *test_data):\n",
    "        pred_val = 0\n",
    "        i = 0\n",
    "        for value in test_data:\n",
    "            pred_val += self.W[i][0]*value\n",
    "            #print(self.W[i][0],value,pred_val)\n",
    "            i+=1\n",
    "        \n",
    "        return pred_val + self.W[-1][0]\n",
    "    \n",
    "    def plot(self, sz=10, wd=1):\n",
    "        if self.X_train.shape[1]==1:\n",
    "            ledgy = list()\n",
    "            y_pred = np.array([])\n",
    "            for i in np.arange(self.m[0]):\n",
    "                 y_pred = np.append(y_pred, self.predict(*tuple(self.X_train.iloc[i,:])))\n",
    "                \n",
    "            for col in np.arange(1,self.m[1]):\n",
    "                plt.scatter((self.X_train.iloc[:,col-1:col]), (self.y_train), color=(np.random.random(),np.random.random(),np.random.random()), s=sz)\n",
    "                ledgy.append(self.X_train.iloc[:1,col-1:col].columns[0])\n",
    "            \n",
    "            plt.plot((self.X_train.iloc[:,:1]), (y_pred), color=(np.random.random(),np.random.random(),np.random.random()), linewidth=wd+0.5)\n",
    "            plt.legend(ledgy, loc=(1,0.7))\n",
    "            plt.ylabel(self.y_train.iloc[:1,:1].columns[0])\n",
    "            plt.show()\n",
    "        else:\n",
    "            return \"Please Enter one on one relation\"\n",
    "    \n",
    "    def error(self,perc=80):\n",
    "        if self.X_train.shape[1]>=-1:\n",
    "            y_pred = np.array([])\n",
    "            for i in np.arange(self.m[0]):\n",
    "                y_pred = np.append(y_pred, self.predict(*tuple(self.X_train.iloc[i,:])))\n",
    "                \n",
    "            #acc = 100 - ((abs(np.reshape(np.array(self.y_train), (self.m[0],))-y_pred)/np.reshape(np.array(self.y_train), (self.m[0],)))*100)\n",
    "            #print(len(abs(np.reshape(np.array(self.y_train), (22,))-y_pred)/np.reshape(np.array(self.y_train), (22,))))\n",
    "            acc = abs(np.reshape(np.array(self.y_train), (self.m[0],))-y_pred)\n",
    "            sns.boxplot(acc)\n",
    "            plt.show()\n",
    "            sns.histplot(acc, kde=True)\n",
    "            plt.show()\n",
    "            print(f'mean:{np.mean(acc)},std:{np.std(acc)}')\n",
    "            return np.percentile(acc,perc)\n",
    "        else:\n",
    "            return \"Please Enter one on one relation\""
   ]
  },
  {
   "cell_type": "code",
   "execution_count": 7,
   "id": "283704b7",
   "metadata": {
    "notebookRunGroups": {
     "groupValue": "1"
    }
   },
   "outputs": [],
   "source": [
    "df1 = getData(name = 'adanient.ns', per= '10d', intrvl= '15m')\n",
    "#df1=df1*(834/28.34)\n",
    "#df1.to_csv('stock_data.csv')\n",
    "#df1 = pd.DataFrame(fft(df1))"
   ]
  },
  {
   "cell_type": "code",
   "execution_count": 8,
   "id": "6676aa28",
   "metadata": {},
   "outputs": [
    {
     "data": {
      "text/plain": [
       "(250, 1)"
      ]
     },
     "execution_count": 8,
     "metadata": {},
     "output_type": "execute_result"
    }
   ],
   "source": [
    "df1.shape"
   ]
  },
  {
   "cell_type": "code",
   "execution_count": 9,
   "id": "8b2ba948",
   "metadata": {
    "scrolled": true
   },
   "outputs": [
    {
     "data": {
      "image/png": "[encoded data removed]",
      "text/plain": [
       "<Figure size 800x550 with 1 Axes>"
      ]
     },
     "metadata": {},
     "output_type": "display_data"
    }
   ],
   "source": [
    "plot_pacf(df1, lags=30);"
   ]
  },
  {
   "cell_type": "code",
   "execution_count": 10,
   "id": "42e32b1b",
   "metadata": {
    "notebookRunGroups": {
     "groupValue": "1"
    }
   },
   "outputs": [],
   "source": [
    "n_lags = 26\n",
    "temp = [df1]+[df1.shift(-i) for i in np.arange(1,n_lags+1)]\n"
   ]
  },
  {
   "cell_type": "code",
   "execution_count": 11,
   "id": "fc1e5ee1",
   "metadata": {
    "notebookRunGroups": {
     "groupValue": "1"
    }
   },
   "outputs": [
    {
     "data": {
      "text/html": [
       "<div>\n",
       "<style scoped>\n",
       "    .dataframe tbody tr th:only-of-type {\n",
       "        vertical-align: middle;\n",
       "    }\n",
       "\n",
       "    .dataframe tbody tr th {\n",
       "        vertical-align: top;\n",
       "    }\n",
       "\n",
       "    .dataframe thead th {\n",
       "        text-align: right;\n",
       "    }\n",
       "</style>\n",
       "<table border=\"1\" class=\"dataframe\">\n",
       "  <thead>\n",
       "    <tr style=\"text-align: right;\">\n",
       "      <th></th>\n",
       "      <th>0</th>\n",
       "      <th>1</th>\n",
       "      <th>2</th>\n",
       "      <th>3</th>\n",
       "      <th>4</th>\n",
       "      <th>5</th>\n",
       "      <th>6</th>\n",
       "      <th>7</th>\n",
       "      <th>8</th>\n",
       "      <th>9</th>\n",
       "      <th>...</th>\n",
       "      <th>17</th>\n",
       "      <th>18</th>\n",
       "      <th>19</th>\n",
       "      <th>20</th>\n",
       "      <th>21</th>\n",
       "      <th>22</th>\n",
       "      <th>23</th>\n",
       "      <th>24</th>\n",
       "      <th>25</th>\n",
       "      <th>26</th>\n",
       "    </tr>\n",
       "    <tr>\n",
       "      <th>Datetime</th>\n",
       "      <th></th>\n",
       "      <th></th>\n",
       "      <th></th>\n",
       "      <th></th>\n",
       "      <th></th>\n",
       "      <th></th>\n",
       "      <th></th>\n",
       "      <th></th>\n",
       "      <th></th>\n",
       "      <th></th>\n",
       "      <th></th>\n",
       "      <th></th>\n",
       "      <th></th>\n",
       "      <th></th>\n",
       "      <th></th>\n",
       "      <th></th>\n",
       "      <th></th>\n",
       "      <th></th>\n",
       "      <th></th>\n",
       "      <th></th>\n",
       "      <th></th>\n",
       "    </tr>\n",
       "  </thead>\n",
       "  <tbody>\n",
       "    <tr>\n",
       "      <th>2024-03-27 14:00:00+05:30</th>\n",
       "      <td>3124.399902</td>\n",
       "      <td>3126.050049</td>\n",
       "      <td>3135.000000</td>\n",
       "      <td>3125.000000</td>\n",
       "      <td>3121.199951</td>\n",
       "      <td>3122.100098</td>\n",
       "      <td>3127.000000</td>\n",
       "      <td>3110.550049</td>\n",
       "      <td>3127.500000</td>\n",
       "      <td>3135.000000</td>\n",
       "      <td>...</td>\n",
       "      <td>3156.399902</td>\n",
       "      <td>3175.000000</td>\n",
       "      <td>3193.000000</td>\n",
       "      <td>3185.350098</td>\n",
       "      <td>3183.000000</td>\n",
       "      <td>3196.850098</td>\n",
       "      <td>3199.000000</td>\n",
       "      <td>3206.000000</td>\n",
       "      <td>3212.449951</td>\n",
       "      <td>3211.399902</td>\n",
       "    </tr>\n",
       "    <tr>\n",
       "      <th>2024-03-27 14:15:00+05:30</th>\n",
       "      <td>3126.050049</td>\n",
       "      <td>3135.000000</td>\n",
       "      <td>3125.000000</td>\n",
       "      <td>3121.199951</td>\n",
       "      <td>3122.100098</td>\n",
       "      <td>3127.000000</td>\n",
       "      <td>3110.550049</td>\n",
       "      <td>3127.500000</td>\n",
       "      <td>3135.000000</td>\n",
       "      <td>3133.850098</td>\n",
       "      <td>...</td>\n",
       "      <td>3175.000000</td>\n",
       "      <td>3193.000000</td>\n",
       "      <td>3185.350098</td>\n",
       "      <td>3183.000000</td>\n",
       "      <td>3196.850098</td>\n",
       "      <td>3199.000000</td>\n",
       "      <td>3206.000000</td>\n",
       "      <td>3212.449951</td>\n",
       "      <td>3211.399902</td>\n",
       "      <td>3236.199951</td>\n",
       "    </tr>\n",
       "    <tr>\n",
       "      <th>2024-03-27 14:30:00+05:30</th>\n",
       "      <td>3135.000000</td>\n",
       "      <td>3125.000000</td>\n",
       "      <td>3121.199951</td>\n",
       "      <td>3122.100098</td>\n",
       "      <td>3127.000000</td>\n",
       "      <td>3110.550049</td>\n",
       "      <td>3127.500000</td>\n",
       "      <td>3135.000000</td>\n",
       "      <td>3133.850098</td>\n",
       "      <td>3158.399902</td>\n",
       "      <td>...</td>\n",
       "      <td>3193.000000</td>\n",
       "      <td>3185.350098</td>\n",
       "      <td>3183.000000</td>\n",
       "      <td>3196.850098</td>\n",
       "      <td>3199.000000</td>\n",
       "      <td>3206.000000</td>\n",
       "      <td>3212.449951</td>\n",
       "      <td>3211.399902</td>\n",
       "      <td>3236.199951</td>\n",
       "      <td>3217.850098</td>\n",
       "    </tr>\n",
       "    <tr>\n",
       "      <th>2024-03-27 14:45:00+05:30</th>\n",
       "      <td>3125.000000</td>\n",
       "      <td>3121.199951</td>\n",
       "      <td>3122.100098</td>\n",
       "      <td>3127.000000</td>\n",
       "      <td>3110.550049</td>\n",
       "      <td>3127.500000</td>\n",
       "      <td>3135.000000</td>\n",
       "      <td>3133.850098</td>\n",
       "      <td>3158.399902</td>\n",
       "      <td>3152.000000</td>\n",
       "      <td>...</td>\n",
       "      <td>3185.350098</td>\n",
       "      <td>3183.000000</td>\n",
       "      <td>3196.850098</td>\n",
       "      <td>3199.000000</td>\n",
       "      <td>3206.000000</td>\n",
       "      <td>3212.449951</td>\n",
       "      <td>3211.399902</td>\n",
       "      <td>3236.199951</td>\n",
       "      <td>3217.850098</td>\n",
       "      <td>3180.250000</td>\n",
       "    </tr>\n",
       "    <tr>\n",
       "      <th>2024-03-27 15:00:00+05:30</th>\n",
       "      <td>3121.199951</td>\n",
       "      <td>3122.100098</td>\n",
       "      <td>3127.000000</td>\n",
       "      <td>3110.550049</td>\n",
       "      <td>3127.500000</td>\n",
       "      <td>3135.000000</td>\n",
       "      <td>3133.850098</td>\n",
       "      <td>3158.399902</td>\n",
       "      <td>3152.000000</td>\n",
       "      <td>3155.600098</td>\n",
       "      <td>...</td>\n",
       "      <td>3183.000000</td>\n",
       "      <td>3196.850098</td>\n",
       "      <td>3199.000000</td>\n",
       "      <td>3206.000000</td>\n",
       "      <td>3212.449951</td>\n",
       "      <td>3211.399902</td>\n",
       "      <td>3236.199951</td>\n",
       "      <td>3217.850098</td>\n",
       "      <td>3180.250000</td>\n",
       "      <td>3197.100098</td>\n",
       "    </tr>\n",
       "  </tbody>\n",
       "</table>\n",
       "<p>5 rows × 27 columns</p>\n",
       "</div>"
      ],
      "text/plain": [
       "                                    0            1            2            3   \\\n",
       "Datetime                                                                        \n",
       "2024-03-27 14:00:00+05:30  3124.399902  3126.050049  3135.000000  3125.000000   \n",
       "2024-03-27 14:15:00+05:30  3126.050049  3135.000000  3125.000000  3121.199951   \n",
       "2024-03-27 14:30:00+05:30  3135.000000  3125.000000  3121.199951  3122.100098   \n",
       "2024-03-27 14:45:00+05:30  3125.000000  3121.199951  3122.100098  3127.000000   \n",
       "2024-03-27 15:00:00+05:30  3121.199951  3122.100098  3127.000000  3110.550049   \n",
       "\n",
       "                                    4            5            6            7   \\\n",
       "Datetime                                                                        \n",
       "2024-03-27 14:00:00+05:30  3121.199951  3122.100098  3127.000000  3110.550049   \n",
       "2024-03-27 14:15:00+05:30  3122.100098  3127.000000  3110.550049  3127.500000   \n",
       "2024-03-27 14:30:00+05:30  3127.000000  3110.550049  3127.500000  3135.000000   \n",
       "2024-03-27 14:45:00+05:30  3110.550049  3127.500000  3135.000000  3133.850098   \n",
       "2024-03-27 15:00:00+05:30  3127.500000  3135.000000  3133.850098  3158.399902   \n",
       "\n",
       "                                    8            9   ...           17  \\\n",
       "Datetime                                             ...                \n",
       "2024-03-27 14:00:00+05:30  3127.500000  3135.000000  ...  3156.399902   \n",
       "2024-03-27 14:15:00+05:30  3135.000000  3133.850098  ...  3175.000000   \n",
       "2024-03-27 14:30:00+05:30  3133.850098  3158.399902  ...  3193.000000   \n",
       "2024-03-27 14:45:00+05:30  3158.399902  3152.000000  ...  3185.350098   \n",
       "2024-03-27 15:00:00+05:30  3152.000000  3155.600098  ...  3183.000000   \n",
       "\n",
       "                                    18           19           20           21  \\\n",
       "Datetime                                                                        \n",
       "2024-03-27 14:00:00+05:30  3175.000000  3193.000000  3185.350098  3183.000000   \n",
       "2024-03-27 14:15:00+05:30  3193.000000  3185.350098  3183.000000  3196.850098   \n",
       "2024-03-27 14:30:00+05:30  3185.350098  3183.000000  3196.850098  3199.000000   \n",
       "2024-03-27 14:45:00+05:30  3183.000000  3196.850098  3199.000000  3206.000000   \n",
       "2024-03-27 15:00:00+05:30  3196.850098  3199.000000  3206.000000  3212.449951   \n",
       "\n",
       "                                    22           23           24           25  \\\n",
       "Datetime                                                                        \n",
       "2024-03-27 14:00:00+05:30  3196.850098  3199.000000  3206.000000  3212.449951   \n",
       "2024-03-27 14:15:00+05:30  3199.000000  3206.000000  3212.449951  3211.399902   \n",
       "2024-03-27 14:30:00+05:30  3206.000000  3212.449951  3211.399902  3236.199951   \n",
       "2024-03-27 14:45:00+05:30  3212.449951  3211.399902  3236.199951  3217.850098   \n",
       "2024-03-27 15:00:00+05:30  3211.399902  3236.199951  3217.850098  3180.250000   \n",
       "\n",
       "                                    26  \n",
       "Datetime                                \n",
       "2024-03-27 14:00:00+05:30  3211.399902  \n",
       "2024-03-27 14:15:00+05:30  3236.199951  \n",
       "2024-03-27 14:30:00+05:30  3217.850098  \n",
       "2024-03-27 14:45:00+05:30  3180.250000  \n",
       "2024-03-27 15:00:00+05:30  3197.100098  \n",
       "\n",
       "[5 rows x 27 columns]"
      ]
     },
     "execution_count": 11,
     "metadata": {},
     "output_type": "execute_result"
    }
   ],
   "source": [
    "#dff = pd.concat([df1,df1['Close'].shift(-1),df1['Close'].shift(-2),df1['Close'].shift(-3),df1['Close'].shift(-4),df1['Close'].shift(-5),df1['Close'].shift(-6),df1['Close'].shift(-7)], axis=1)\n",
    "\n",
    "cols = [\n",
    "        df1,df1.shift(-1),\n",
    "        df1.shift(-29),\n",
    "        df1.shift(-36),\n",
    "        # df1.shift(-34),\n",
    "        # # df1.shift(-2),\n",
    "        # # df1.shift(-3),\n",
    "        # # df1.shift(-4),\n",
    "        ]\n",
    "\n",
    "cols = temp\n",
    "\n",
    "dff = pd.concat(cols, axis=1)\n",
    "#dff = pd.concat([df1,df1['Close'].shift(-1),df1['Close'].shift(-2),df1['Close'].shift(-3),df1['Close'].shift(-4),df1['Close'].shift(-5)], axis=1)\n",
    "dff.columns = np.arange(len(cols))\n",
    "dff = dff.dropna()\n",
    "dff.tail(5)"
   ]
  },
  {
   "cell_type": "code",
   "execution_count": 12,
   "id": "dda5d2f5",
   "metadata": {},
   "outputs": [],
   "source": [
    "#sns.heatmap(dff.corr(), annot=True, cmap='RdBu')\n",
    "def AGO(df):\n",
    "    cdf = df.copy()\n",
    "    out = pd.DataFrame()\n",
    "    for i in np.arange(cdf.shape[0]):\n",
    "        row = np.array(cdf.iloc[i,:])\n",
    "        #print(len(row))\n",
    "        x= [row[j] - row[j-1] for j in np.arange(1,len(row))]\n",
    "        out[i] = x\n",
    "        #print(pd.Series(x))\n",
    "    return out.T"
   ]
  },
  {
   "cell_type": "code",
   "execution_count": 13,
   "id": "42952ffb",
   "metadata": {
    "notebookRunGroups": {
     "groupValue": "1"
    }
   },
   "outputs": [],
   "source": [
    "n = 0.95\n",
    "size  = int(df1.shape[0]*n)\n",
    "size = dff.shape[0]-10\n",
    "df_train = dff.iloc[:size,:]\n",
    "df_test = dff.iloc[size:,:]"
   ]
  },
  {
   "cell_type": "code",
   "execution_count": 14,
   "id": "a5388db7",
   "metadata": {
    "notebookRunGroups": {
     "groupValue": "1"
    }
   },
   "outputs": [],
   "source": [
    "lr = LinearRegression(df_train, *np.arange(1,len(cols)+1))"
   ]
  },
  {
   "cell_type": "code",
   "execution_count": 15,
   "id": "4a884e1a",
   "metadata": {
    "notebookRunGroups": {
     "groupValue": "1"
    }
   },
   "outputs": [
    {
     "data": {
      "text/plain": [
       "array([ 1,  2,  3,  4,  5,  6,  7,  8,  9, 10, 11, 12, 13, 14, 15, 16, 17,\n",
       "       18, 19, 20, 21, 22, 23, 24, 25, 26, 27])"
      ]
     },
     "execution_count": 15,
     "metadata": {},
     "output_type": "execute_result"
    }
   ],
   "source": [
    "np.arange(1,len(cols)+1)"
   ]
  },
  {
   "cell_type": "code",
   "execution_count": 16,
   "id": "e4a307eb",
   "metadata": {
    "notebookRunGroups": {
     "groupValue": "1"
    }
   },
   "outputs": [],
   "source": [
    "lr.target(np.arange(1,len(cols)+1)[-1])\n",
    "#lr.show()"
   ]
  },
  {
   "cell_type": "code",
   "execution_count": 17,
   "id": "a3c335b3",
   "metadata": {
    "notebookRunGroups": {
     "groupValue": "1"
    }
   },
   "outputs": [],
   "source": [
    "l = list()\n",
    "rangep = np.array([(400,408.25),(409,411.5),(411.5,412),(412,413)])\n",
    "for i in np.arange(df_test.shape[0]):\n",
    "    l.append(lr.predict(*(df_test.iloc[i,:-1])))\n",
    "l=np.array(l)"
   ]
  },
  {
   "cell_type": "code",
   "execution_count": 18,
   "id": "a4d20da8",
   "metadata": {
    "notebookRunGroups": {
     "groupValue": "1"
    },
    "scrolled": true
   },
   "outputs": [
    {
     "data": {
      "image/png": "[encoded data removed]",
      "text/plain": [
       "<Figure size 800x550 with 1 Axes>"
      ]
     },
     "metadata": {},
     "output_type": "display_data"
    },
    {
     "data": {
      "image/png": "[encoded data removed]",
      "text/plain": [
       "<Figure size 800x550 with 1 Axes>"
      ]
     },
     "metadata": {},
     "output_type": "display_data"
    },
    {
     "name": "stdout",
     "output_type": "stream",
     "text": [
      "mean:7.446131994758206,std:9.037697951808166\n"
     ]
    },
    {
     "data": {
      "text/plain": [
       "13.977706364200365"
      ]
     },
     "execution_count": 18,
     "metadata": {},
     "output_type": "execute_result"
    }
   ],
   "source": [
    "#intv=abs((np.array(df_test.iloc[:,2])-l)).mean()\n",
    "intv=lr.error(85)\n",
    "intv"
   ]
  },
  {
   "cell_type": "code",
   "execution_count": 19,
   "id": "9e6a9eeb",
   "metadata": {},
   "outputs": [],
   "source": [
    "#print(f'predicted:{np.array(l+intv),np.array(l-intv)}')"
   ]
  },
  {
   "cell_type": "code",
   "execution_count": 20,
   "id": "d49cf355",
   "metadata": {
    "scrolled": true
   },
   "outputs": [],
   "source": [
    "def plot_predict(actual,l, intv,t=-1, title = False):\n",
    "    plt.figure(figsize=(5,3.8))\n",
    "    lower,upper = l-intv,l+intv\n",
    "    actual = np.arange(-len(l),len(np.array(df_test.iloc[:,-1])))\n",
    "    #print(actual)\n",
    "    plt.plot(np.array(df_test.iloc[:,t]), c='k', alpha=0.4) #np.array(df_test.iloc[:,-1])\n",
    "    #print(np.array(df_test.iloc[:,-1]))\n",
    "    plt.plot(lower[1:],'r--', label='lower')\n",
    "    plt.plot(l[1:], c='b',label = 'predicted')\n",
    "    plt.plot(upper[1:],'g--', label='upper')\n",
    "    plt.legend(loc='upper left')\n",
    "    if title:\n",
    "        plt.title('My Model')\n",
    "    plt.show()\n",
    "    "
   ]
  },
  {
   "cell_type": "code",
   "execution_count": 21,
   "id": "6106b2ff-c8e7-4f38-87ea-b2b8f9d12535",
   "metadata": {},
   "outputs": [],
   "source": [
    "def forec_tree(prev_days,price, intv, depth, fluctFact=0.25, dr=1):\n",
    "    prev_days = np.append(prev_days, price)\n",
    "    prev_days = prev_days[1:]\n",
    "    udr = 0.8\n",
    "    ldr = 1.25\n",
    "    m = m1 = lr.predict(*prev_days)\n",
    "    #prev_days = np.append(prev_days, m)\n",
    "    up,low = m+intv,m-intv\n",
    "    disth = dr*abs(price-up)\n",
    "    distl = abs(price-low)\n",
    "    factor = distl/(distl+disth)\n",
    "    if depth==-5:\n",
    "        #print(\"in -5\")\n",
    "        return factor\n",
    "        \n",
    "    if depth<=0 and depth>-5:\n",
    "        u = forec_tree(prev_days, price+(fluctFact)*1*intv, intv, depth-1, fluctFact= fluctFact, dr=1 if fluctFact<=0.5 or fluctFact >= 1.2 else udr*dr)\n",
    "        d = forec_tree(prev_days, price+(fluctFact)*1*intv, intv, depth-1, fluctFact= fluctFact, dr=1 if fluctFact<=0.5 or fluctFact >= 1.2 else ldr*dr)\n",
    "        #print(f\"IF {price:7.6} THEN:{factor:5.2},up:{up:7.6},mean:{m1:7.6},low:{low:7.6} d({depth-1})\\n\")\n",
    "        return (factor*u*d)**(1/3)\n",
    "    \n",
    "    elif depth>0:\n",
    "        d = forec_tree(prev_days,price-(fluctFact)*1*intv, intv, depth-1, fluctFact=fluctFact,dr=1 if fluctFact<=0.5 or fluctFact >=1.2 else ldr*dr)\n",
    "        #print(f\"IF {price:7.6} THEN:{factor:5.2},up:{up:7.6},mean:{m1:7.6},low:{low:7.6} d({depth-1})\\n\")\n",
    "        u = forec_tree(prev_days,price+(fluctFact)*1*intv, intv, depth-1, fluctFact=fluctFact,dr=1 if fluctFact<=0.5 or fluctFact >= 1.2 else udr*dr)\n",
    "        factor = (factor*d*u)**(1/3)\n",
    "        print(f\"IF {price:7.6} THEN: {factor:5.2},up:{up:7.6},mean:{m1:7.6},low:{low:7.6} d({depth-1})\\n\")\n",
    "        return factor"
   ]
  },
  {
   "cell_type": "code",
   "execution_count": 22,
   "id": "8fb43dca",
   "metadata": {},
   "outputs": [],
   "source": [
    "def forec(price_today, n_points, t=-1, read=True):\n",
    "    price_today = float(df_test.iloc[t,-1])\n",
    "    prev_days = np.append(np.array(df_test.iloc[t-1,:-1]), price_today)\n",
    "    prev_days = prev_days[1:]\n",
    "    output = np.empty((n_points,4))\n",
    "    #print(prev_days)\n",
    "    for i in np.arange(n_points):\n",
    "        m = m1 = lr.predict(*prev_days)\n",
    "        up,low = m+intv,m-intv\n",
    "        disth = abs(price_today-up)\n",
    "        distl = abs(price_today-low)\n",
    "        factor = distl/(distl+disth)\n",
    "        output[i][0] = factor\n",
    "        output[i][1] = up\n",
    "        output[i][2] = m1\n",
    "        output[i][3] = low\n",
    "        '''if factor<0.47:\n",
    "            m = price_today = (m+(factor*.001*m))\n",
    "        else:\n",
    "            m = price_today = (m-factor*.001*m)'''\n",
    "        price_today = m\n",
    "        prev_days = np.append(np.array(prev_days),price_today)\n",
    "        prev_days = prev_days[1:]\n",
    "        if read:\n",
    "            print(f'[{factor:5.2}, up: {up:7.6}, mean: {m1:7.6}, low: {low:7.6}], {float(df_test.iloc[t,-1]):7.6}')\n",
    "    if read==False:\n",
    "        return output\n"
   ]
  },
  {
   "cell_type": "code",
   "execution_count": 23,
   "id": "a08ea564",
   "metadata": {},
   "outputs": [
    {
     "data": {
      "text/html": [
       "<div>\n",
       "<style scoped>\n",
       "    .dataframe tbody tr th:only-of-type {\n",
       "        vertical-align: middle;\n",
       "    }\n",
       "\n",
       "    .dataframe tbody tr th {\n",
       "        vertical-align: top;\n",
       "    }\n",
       "\n",
       "    .dataframe thead th {\n",
       "        text-align: right;\n",
       "    }\n",
       "</style>\n",
       "<table border=\"1\" class=\"dataframe\">\n",
       "  <thead>\n",
       "    <tr style=\"text-align: right;\">\n",
       "      <th></th>\n",
       "      <th>0</th>\n",
       "      <th>1</th>\n",
       "      <th>2</th>\n",
       "      <th>3</th>\n",
       "      <th>4</th>\n",
       "      <th>5</th>\n",
       "      <th>6</th>\n",
       "      <th>7</th>\n",
       "      <th>8</th>\n",
       "      <th>9</th>\n",
       "      <th>...</th>\n",
       "      <th>17</th>\n",
       "      <th>18</th>\n",
       "      <th>19</th>\n",
       "      <th>20</th>\n",
       "      <th>21</th>\n",
       "      <th>22</th>\n",
       "      <th>23</th>\n",
       "      <th>24</th>\n",
       "      <th>25</th>\n",
       "      <th>26</th>\n",
       "    </tr>\n",
       "    <tr>\n",
       "      <th>Datetime</th>\n",
       "      <th></th>\n",
       "      <th></th>\n",
       "      <th></th>\n",
       "      <th></th>\n",
       "      <th></th>\n",
       "      <th></th>\n",
       "      <th></th>\n",
       "      <th></th>\n",
       "      <th></th>\n",
       "      <th></th>\n",
       "      <th></th>\n",
       "      <th></th>\n",
       "      <th></th>\n",
       "      <th></th>\n",
       "      <th></th>\n",
       "      <th></th>\n",
       "      <th></th>\n",
       "      <th></th>\n",
       "      <th></th>\n",
       "      <th></th>\n",
       "      <th></th>\n",
       "    </tr>\n",
       "  </thead>\n",
       "  <tbody>\n",
       "    <tr>\n",
       "      <th>2024-03-27 14:00:00+05:30</th>\n",
       "      <td>3124.399902</td>\n",
       "      <td>3126.050049</td>\n",
       "      <td>3135.000000</td>\n",
       "      <td>3125.000000</td>\n",
       "      <td>3121.199951</td>\n",
       "      <td>3122.100098</td>\n",
       "      <td>3127.000000</td>\n",
       "      <td>3110.550049</td>\n",
       "      <td>3127.500000</td>\n",
       "      <td>3135.000000</td>\n",
       "      <td>...</td>\n",
       "      <td>3156.399902</td>\n",
       "      <td>3175.000000</td>\n",
       "      <td>3193.000000</td>\n",
       "      <td>3185.350098</td>\n",
       "      <td>3183.000000</td>\n",
       "      <td>3196.850098</td>\n",
       "      <td>3199.000000</td>\n",
       "      <td>3206.000000</td>\n",
       "      <td>3212.449951</td>\n",
       "      <td>3211.399902</td>\n",
       "    </tr>\n",
       "    <tr>\n",
       "      <th>2024-03-27 14:15:00+05:30</th>\n",
       "      <td>3126.050049</td>\n",
       "      <td>3135.000000</td>\n",
       "      <td>3125.000000</td>\n",
       "      <td>3121.199951</td>\n",
       "      <td>3122.100098</td>\n",
       "      <td>3127.000000</td>\n",
       "      <td>3110.550049</td>\n",
       "      <td>3127.500000</td>\n",
       "      <td>3135.000000</td>\n",
       "      <td>3133.850098</td>\n",
       "      <td>...</td>\n",
       "      <td>3175.000000</td>\n",
       "      <td>3193.000000</td>\n",
       "      <td>3185.350098</td>\n",
       "      <td>3183.000000</td>\n",
       "      <td>3196.850098</td>\n",
       "      <td>3199.000000</td>\n",
       "      <td>3206.000000</td>\n",
       "      <td>3212.449951</td>\n",
       "      <td>3211.399902</td>\n",
       "      <td>3236.199951</td>\n",
       "    </tr>\n",
       "    <tr>\n",
       "      <th>2024-03-27 14:30:00+05:30</th>\n",
       "      <td>3135.000000</td>\n",
       "      <td>3125.000000</td>\n",
       "      <td>3121.199951</td>\n",
       "      <td>3122.100098</td>\n",
       "      <td>3127.000000</td>\n",
       "      <td>3110.550049</td>\n",
       "      <td>3127.500000</td>\n",
       "      <td>3135.000000</td>\n",
       "      <td>3133.850098</td>\n",
       "      <td>3158.399902</td>\n",
       "      <td>...</td>\n",
       "      <td>3193.000000</td>\n",
       "      <td>3185.350098</td>\n",
       "      <td>3183.000000</td>\n",
       "      <td>3196.850098</td>\n",
       "      <td>3199.000000</td>\n",
       "      <td>3206.000000</td>\n",
       "      <td>3212.449951</td>\n",
       "      <td>3211.399902</td>\n",
       "      <td>3236.199951</td>\n",
       "      <td>3217.850098</td>\n",
       "    </tr>\n",
       "    <tr>\n",
       "      <th>2024-03-27 14:45:00+05:30</th>\n",
       "      <td>3125.000000</td>\n",
       "      <td>3121.199951</td>\n",
       "      <td>3122.100098</td>\n",
       "      <td>3127.000000</td>\n",
       "      <td>3110.550049</td>\n",
       "      <td>3127.500000</td>\n",
       "      <td>3135.000000</td>\n",
       "      <td>3133.850098</td>\n",
       "      <td>3158.399902</td>\n",
       "      <td>3152.000000</td>\n",
       "      <td>...</td>\n",
       "      <td>3185.350098</td>\n",
       "      <td>3183.000000</td>\n",
       "      <td>3196.850098</td>\n",
       "      <td>3199.000000</td>\n",
       "      <td>3206.000000</td>\n",
       "      <td>3212.449951</td>\n",
       "      <td>3211.399902</td>\n",
       "      <td>3236.199951</td>\n",
       "      <td>3217.850098</td>\n",
       "      <td>3180.250000</td>\n",
       "    </tr>\n",
       "    <tr>\n",
       "      <th>2024-03-27 15:00:00+05:30</th>\n",
       "      <td>3121.199951</td>\n",
       "      <td>3122.100098</td>\n",
       "      <td>3127.000000</td>\n",
       "      <td>3110.550049</td>\n",
       "      <td>3127.500000</td>\n",
       "      <td>3135.000000</td>\n",
       "      <td>3133.850098</td>\n",
       "      <td>3158.399902</td>\n",
       "      <td>3152.000000</td>\n",
       "      <td>3155.600098</td>\n",
       "      <td>...</td>\n",
       "      <td>3183.000000</td>\n",
       "      <td>3196.850098</td>\n",
       "      <td>3199.000000</td>\n",
       "      <td>3206.000000</td>\n",
       "      <td>3212.449951</td>\n",
       "      <td>3211.399902</td>\n",
       "      <td>3236.199951</td>\n",
       "      <td>3217.850098</td>\n",
       "      <td>3180.250000</td>\n",
       "      <td>3197.100098</td>\n",
       "    </tr>\n",
       "  </tbody>\n",
       "</table>\n",
       "<p>5 rows × 27 columns</p>\n",
       "</div>"
      ],
      "text/plain": [
       "                                    0            1            2            3   \\\n",
       "Datetime                                                                        \n",
       "2024-03-27 14:00:00+05:30  3124.399902  3126.050049  3135.000000  3125.000000   \n",
       "2024-03-27 14:15:00+05:30  3126.050049  3135.000000  3125.000000  3121.199951   \n",
       "2024-03-27 14:30:00+05:30  3135.000000  3125.000000  3121.199951  3122.100098   \n",
       "2024-03-27 14:45:00+05:30  3125.000000  3121.199951  3122.100098  3127.000000   \n",
       "2024-03-27 15:00:00+05:30  3121.199951  3122.100098  3127.000000  3110.550049   \n",
       "\n",
       "                                    4            5            6            7   \\\n",
       "Datetime                                                                        \n",
       "2024-03-27 14:00:00+05:30  3121.199951  3122.100098  3127.000000  3110.550049   \n",
       "2024-03-27 14:15:00+05:30  3122.100098  3127.000000  3110.550049  3127.500000   \n",
       "2024-03-27 14:30:00+05:30  3127.000000  3110.550049  3127.500000  3135.000000   \n",
       "2024-03-27 14:45:00+05:30  3110.550049  3127.500000  3135.000000  3133.850098   \n",
       "2024-03-27 15:00:00+05:30  3127.500000  3135.000000  3133.850098  3158.399902   \n",
       "\n",
       "                                    8            9   ...           17  \\\n",
       "Datetime                                             ...                \n",
       "2024-03-27 14:00:00+05:30  3127.500000  3135.000000  ...  3156.399902   \n",
       "2024-03-27 14:15:00+05:30  3135.000000  3133.850098  ...  3175.000000   \n",
       "2024-03-27 14:30:00+05:30  3133.850098  3158.399902  ...  3193.000000   \n",
       "2024-03-27 14:45:00+05:30  3158.399902  3152.000000  ...  3185.350098   \n",
       "2024-03-27 15:00:00+05:30  3152.000000  3155.600098  ...  3183.000000   \n",
       "\n",
       "                                    18           19           20           21  \\\n",
       "Datetime                                                                        \n",
       "2024-03-27 14:00:00+05:30  3175.000000  3193.000000  3185.350098  3183.000000   \n",
       "2024-03-27 14:15:00+05:30  3193.000000  3185.350098  3183.000000  3196.850098   \n",
       "2024-03-27 14:30:00+05:30  3185.350098  3183.000000  3196.850098  3199.000000   \n",
       "2024-03-27 14:45:00+05:30  3183.000000  3196.850098  3199.000000  3206.000000   \n",
       "2024-03-27 15:00:00+05:30  3196.850098  3199.000000  3206.000000  3212.449951   \n",
       "\n",
       "                                    22           23           24           25  \\\n",
       "Datetime                                                                        \n",
       "2024-03-27 14:00:00+05:30  3196.850098  3199.000000  3206.000000  3212.449951   \n",
       "2024-03-27 14:15:00+05:30  3199.000000  3206.000000  3212.449951  3211.399902   \n",
       "2024-03-27 14:30:00+05:30  3206.000000  3212.449951  3211.399902  3236.199951   \n",
       "2024-03-27 14:45:00+05:30  3212.449951  3211.399902  3236.199951  3217.850098   \n",
       "2024-03-27 15:00:00+05:30  3211.399902  3236.199951  3217.850098  3180.250000   \n",
       "\n",
       "                                    26  \n",
       "Datetime                                \n",
       "2024-03-27 14:00:00+05:30  3211.399902  \n",
       "2024-03-27 14:15:00+05:30  3236.199951  \n",
       "2024-03-27 14:30:00+05:30  3217.850098  \n",
       "2024-03-27 14:45:00+05:30  3180.250000  \n",
       "2024-03-27 15:00:00+05:30  3197.100098  \n",
       "\n",
       "[5 rows x 27 columns]"
      ]
     },
     "execution_count": 23,
     "metadata": {},
     "output_type": "execute_result"
    }
   ],
   "source": [
    "df_test.tail()"
   ]
  },
  {
   "cell_type": "code",
   "execution_count": 24,
   "id": "ea367f61",
   "metadata": {
    "notebookRunGroups": {
     "groupValue": "1"
    }
   },
   "outputs": [
    {
     "name": "stdout",
     "output_type": "stream",
     "text": [
      "[3121.2  3122.1  3127.   3110.55 3127.5  3135.   3133.85 3158.4  3152.\n",
      " 3155.6  3150.45 3152.65 3153.3  3156.4  3175.   3193.   3185.35 3183.\n",
      " 3196.85 3199.   3206.   3212.45 3211.4  3236.2  3217.85 3180.25] 3197.10009765625\n"
     ]
    }
   ],
   "source": [
    "t = -1\n",
    "#-k mean previous k days\n",
    "print(np.array(df_test.iloc[t,:-1]),df_test.iloc[t,-1])\n",
    "#print(np.array([400.14,398.5,398.75,400.23]))\n",
    "#aaj ka close and previous k days ka close, AR(k) here k=5"
   ]
  },
  {
   "cell_type": "code",
   "execution_count": 25,
   "id": "d63e6580",
   "metadata": {},
   "outputs": [
    {
     "name": "stdout",
     "output_type": "stream",
     "text": [
      "significance = 0.292\n",
      " 0.56 Tom_Upper: 3209.5, Tom_Lower: 3181.5, mean: 3195.5, Tod_Upper:  3193.0, Tod_Lower:  3165.1\n"
     ]
    }
   ],
   "source": [
    "price_today = float(df_test.iloc[t,-1])\n",
    "\n",
    "yesterday = np.array(df_test.iloc[t,:-1])*1 \n",
    "pred_high_today,m,pred_low_today = (lr.predict(*yesterday)+intv,lr.predict(*yesterday),lr.predict(*yesterday)-intv)\n",
    "#decision = [1 if price[-1]<high else 0, 1 if price[-1]<m else 0,  1 if price[-1]<low else 0]\n",
    "#print(price_today<pred_high_today, price_today>pred_low_today)\n",
    "today = list(yesterday[1:])\n",
    "today.append(price_today)\n",
    "today = np.array(today)\n",
    "#print(today)\n",
    "pred_high_tom,m,pred_low_tom = lr.predict(*today)+intv,lr.predict(*today),lr.predict(*today)-intv\n",
    "if price_today<pred_high_today and price_today>pred_low_today:\n",
    "    '''today = list(yesterday[1:])\n",
    "    today.append(price_today)\n",
    "    today = np.array(today)\n",
    "    #print(today)\n",
    "    pred_high_tom,m,pred_low_tom = (lr.predict(*today)+intv,lr.predict(*today),lr.predict(*today)-intv)'''\n",
    "    distfh = abs(price_today-pred_high_tom)#np.sqrt((price_today-pred_high_tom)**2)\n",
    "    distfl = abs(price_today-pred_low_tom)#np.sqrt((price_today-pred_low_tom)**2)\n",
    "    #print(price_today-pred_high_tom,price_today-pred_low_tom)\n",
    "    factor = distfl/(distfh+distfl)\n",
    "    print(factor,f'Tom_Upper: {pred_high_tom}, Tom_Lower: {pred_low_tom}, mean:{m}')\n",
    "\n",
    "else:\n",
    "    sigdhl = abs(price_today-pred_high_today) \n",
    "    sigdfl = abs(price_today-pred_low_today)\n",
    "    \n",
    "    distfh = abs(price_today-pred_high_tom)\n",
    "    distfl= abs(price_today-pred_low_tom)\n",
    "    factor = distfl/(distfl+distfh)\n",
    "    print(f'significance = {sigdhl/intv:4.3}')\n",
    "    print(f'{factor:5.2}',f'Tom_Upper:{pred_high_tom:7.5}, Tom_Lower:{pred_low_tom:7.5}, mean:{m:7.5}, Tod_Upper: {pred_high_today:7.5}, Tod_Lower: {pred_low_today:7.5}')     \n",
    "    #decision boundary is around factor=0.35   \n",
    "    #factor below 0.35 then down \n",
    "    #if significance below 0.4 and above 1 then use pred_tom for dists\n",
    "    #if significance bw 0.4 and 1 then use pred_today for dists"
   ]
  },
  {
   "cell_type": "code",
   "execution_count": 26,
   "id": "394f4845",
   "metadata": {},
   "outputs": [
    {
     "data": {
      "text/plain": [
       "0.28189783761682735"
      ]
     },
     "execution_count": 26,
     "metadata": {},
     "output_type": "execute_result"
    }
   ],
   "source": [
    "\n",
    "#np.append(l,np.array((forec(411.75,7,t=-1,read=False)[:,2])))\n",
    "dev = np.std(minMax(df1.tail(10), 0 , 1))\n",
    "dev"
   ]
  },
  {
   "cell_type": "code",
   "execution_count": 27,
   "id": "2d38dc67",
   "metadata": {
    "notebookRunGroups": {
     "groupValue": "1"
    }
   },
   "outputs": [
    {
     "data": {
      "image/png": "[encoded data removed]",
      "text/plain": [
       "<Figure size 500x380 with 1 Axes>"
      ]
     },
     "metadata": {},
     "output_type": "display_data"
    }
   ],
   "source": [
"#The number after THEN is RF \n",
    "plot_predict(today,np.append(l,np.array((forec(3187.95,6,t=-1,read=False)[:,2]))),intv,t=-1)"
   ]
  },
  {
   "cell_type": "code",
   "execution_count": 28,
   "id": "fe4b090b",
   "metadata": {
    "notebookRunGroups": {
     "groupValue": "1"
    },
    "scrolled": true
   },
   "outputs": [
    {
     "name": "stdout",
     "output_type": "stream",
     "text": [
      "IF 3189.22 THEN:  0.58,up:3202.87,mean: 3188.9,low:3174.92 d(0)\n",
      "\n",
      "IF  3197.1 THEN:  0.61,up:3210.14,mean:3196.17,low:3182.19 d(0)\n",
      "\n",
      "IF 3193.16 THEN:  0.46,up:3213.15,mean:3199.17,low: 3185.2 d(1)\n",
      "\n",
      "IF  3197.1 THEN:  0.61,up:3209.47,mean:3195.49,low:3181.52 d(0)\n",
      "\n",
      "IF 3204.98 THEN:  0.64,up:3216.74,mean:3202.77,low:3188.79 d(0)\n",
      "\n",
      "IF 3201.04 THEN:  0.49,up:3220.42,mean:3206.45,low:3192.47 d(1)\n",
      "\n",
      "IF  3197.1 THEN:   0.5,up:3209.46,mean:3195.48,low: 3181.5 d(2)\n",
      "\n"
     ]
    },
    {
     "data": {
      "text/plain": [
       "0.5037484746838643"
      ]
     },
     "execution_count": 28,
     "metadata": {},
     "output_type": "execute_result"
    }
   ],
   "source": [
    "t=-1\n",
    "prev_days = np.array(df_test.iloc[t,:-1])\n",
    "forec_tree(prev_days,float(df_test.iloc[t,-1]),\n",
    "           intv,\n",
    "           depth=3,\n",
    "           fluctFact= dev*1)\n"
   ]
  },
  {
   "cell_type": "code",
   "execution_count": 29,
   "id": "24621400",
   "metadata": {
    "notebookRunGroups": {
     "groupValue": "1"
    }
   },
   "outputs": [
    {
     "name": "stdout",
     "output_type": "stream",
     "text": [
      "[ 0.59, up: 3208.57, mean: 3194.59, low: 3180.61],  3197.1\n",
      "[  0.6, up: 3205.71, mean: 3191.73, low: 3177.75],  3197.1\n",
      "[ 0.23, up: 3213.13, mean: 3199.16, low: 3185.18],  3197.1\n"
     ]
    }
   ],
   "source": [
    "forec(3187.95,3,t=t )"
   ]
  },
  {
   "cell_type": "code",
   "execution_count": 30,
   "id": "91c06a69",
   "metadata": {
    "notebookRunGroups": {
     "groupValue": "1"
    },
    "scrolled": true
   },
   "outputs": [
    {
     "data": {
      "text/html": [
       "<div>\n",
       "<style scoped>\n",
       "    .dataframe tbody tr th:only-of-type {\n",
       "        vertical-align: middle;\n",
       "    }\n",
       "\n",
       "    .dataframe tbody tr th {\n",
       "        vertical-align: top;\n",
       "    }\n",
       "\n",
       "    .dataframe thead th {\n",
       "        text-align: right;\n",
       "    }\n",
       "</style>\n",
       "<table border=\"1\" class=\"dataframe\">\n",
       "  <thead>\n",
       "    <tr style=\"text-align: right;\">\n",
       "      <th></th>\n",
       "      <th>Close</th>\n",
       "    </tr>\n",
       "    <tr>\n",
       "      <th>Datetime</th>\n",
       "      <th></th>\n",
       "    </tr>\n",
       "  </thead>\n",
       "  <tbody>\n",
       "    <tr>\n",
       "      <th>2024-03-28 13:00:00+05:30</th>\n",
       "      <td>3183.000000</td>\n",
       "    </tr>\n",
       "    <tr>\n",
       "      <th>2024-03-28 13:15:00+05:30</th>\n",
       "      <td>3196.850098</td>\n",
       "    </tr>\n",
       "    <tr>\n",
       "      <th>2024-03-28 13:30:00+05:30</th>\n",
       "      <td>3199.000000</td>\n",
       "    </tr>\n",
       "    <tr>\n",
       "      <th>2024-03-28 13:45:00+05:30</th>\n",
       "      <td>3206.000000</td>\n",
       "    </tr>\n",
       "    <tr>\n",
       "      <th>2024-03-28 14:00:00+05:30</th>\n",
       "      <td>3212.449951</td>\n",
       "    </tr>\n",
       "    <tr>\n",
       "      <th>2024-03-28 14:15:00+05:30</th>\n",
       "      <td>3211.399902</td>\n",
       "    </tr>\n",
       "    <tr>\n",
       "      <th>2024-03-28 14:30:00+05:30</th>\n",
       "      <td>3236.199951</td>\n",
       "    </tr>\n",
       "    <tr>\n",
       "      <th>2024-03-28 14:45:00+05:30</th>\n",
       "      <td>3217.850098</td>\n",
       "    </tr>\n",
       "    <tr>\n",
       "      <th>2024-03-28 15:00:00+05:30</th>\n",
       "      <td>3180.250000</td>\n",
       "    </tr>\n",
       "    <tr>\n",
       "      <th>2024-03-28 15:15:00+05:30</th>\n",
       "      <td>3197.100098</td>\n",
       "    </tr>\n",
       "  </tbody>\n",
       "</table>\n",
       "</div>"
      ],
      "text/plain": [
       "                                 Close\n",
       "Datetime                              \n",
       "2024-03-28 13:00:00+05:30  3183.000000\n",
       "2024-03-28 13:15:00+05:30  3196.850098\n",
       "2024-03-28 13:30:00+05:30  3199.000000\n",
       "2024-03-28 13:45:00+05:30  3206.000000\n",
       "2024-03-28 14:00:00+05:30  3212.449951\n",
       "2024-03-28 14:15:00+05:30  3211.399902\n",
       "2024-03-28 14:30:00+05:30  3236.199951\n",
       "2024-03-28 14:45:00+05:30  3217.850098\n",
       "2024-03-28 15:00:00+05:30  3180.250000\n",
       "2024-03-28 15:15:00+05:30  3197.100098"
      ]
     },
     "execution_count": 30,
     "metadata": {},
     "output_type": "execute_result"
    }
   ],
   "source": [
    "df1.tail(10)"
   ]
  },
  {
   "cell_type": "code",
   "execution_count": 642,
   "id": "c2860e0d",
   "metadata": {},
   "outputs": [],
   "source": [
    "from PIL import Image"
   ]
  },
  {
   "cell_type": "code",
   "execution_count": 643,
   "id": "b123103e",
   "metadata": {},
   "outputs": [],
   "source": [
    "def convolve2D(sqmat,conmat):\n",
    "    conshape = conmat.shape[0]\n",
    "    sqmat = sqmat[:(conshape*(sqmat.shape[0]//conshape)), :(conshape*(sqmat.shape[1]//conshape))]\n",
    "    newmat = np.empty(shape=(sqmat.shape[0]-conshape//2,sqmat.shape[0]-conshape//2))\n",
    "    for row in np.arange(conshape//2,sqmat.shape[0]-(conshape//2)-1):\n",
    "        for col in np.arange(conshape//2,sqmat.shape[0]-(conshape//2)-1):\n",
    "            mini = np.array([[sqmat[i,j] for i in np.arange(row-(conshape//2), row+(conshape//2)+1)] for j in np.arange(col-(conshape//2), col+(conshape//2)+1)])\n",
    "            newmat[row,col] = np.sum([[mini[i,j]*conmat[i,j] for i in np.arange(conshape)] for j in np.arange(conshape)])\n",
    "    \n",
    "    return newmat\n"
   ]
  },
  {
   "cell_type": "code",
   "execution_count": 644,
   "id": "fabe3d8f-088e-464a-9554-53012856e7be",
   "metadata": {},
   "outputs": [],
   "source": [
    "def minmaxImager(df, lower=0,upper=16, convolve = False):\n",
    "    vec = minMax(df, lower, upper)\n",
    "    sqmat = vec @ vec.T\n",
    "    #print(sqmat.shape)\n",
    "    if isinstance(convolve,np.ndarray):\n",
    "        conmat = np.array(convolve)\n",
    "        cmat = convolve2D(sqmat=sqmat, conmat=conmat)\n",
    "        img = Image.fromarray(cmat)\n",
    "        return img.show()\n",
    "    else:\n",
    "        img = Image.fromarray(sqmat)\n",
    "        return img.show()"
   ]
  },
  {
   "cell_type": "code",
   "execution_count": 645,
   "id": "a119e61a",
   "metadata": {},
   "outputs": [],
   "source": [
    "col = [\n",
    "    'High',\n",
    "    #'Close',\n",
    "    'Low'\n",
    "       ]\n",
    "df = getData('usdinr=x', per = '3wk', intrvl='15m',cols=col)\n",
    "df = df if len(col)==1 else np.array(abs(df.iloc[:,0:1]))-np.array(abs(df.iloc[:,1:2]))\n",
    "#df"
   ]
  },
  {
   "cell_type": "code",
   "execution_count": 646,
   "id": "0def87cb",
   "metadata": {},
   "outputs": [],
   "source": [
    "minmaxImager(df, upper=np.sqrt(256/len(col)), convolve=np.array([\n",
    "                        #[0, 0, 0, 0, 0],\n",
    "                        [-2, -2, -2],\n",
    "                        [-2, 16 if len(col)==1 else 17, -2],\n",
    "                        [-2, -2, -2],\n",
    "                        #[0, 0, 0, 0, 0]\n",
    "                        ]))"
   ]
  },
  {
   "cell_type": "code",
   "execution_count": 647,
   "id": "0fa79725",
   "metadata": {},
   "outputs": [],
   "source": [
    "weights=np.reshape(lr.W, (lr.W.shape[0],))"
   ]
  },
  {
   "cell_type": "code",
   "execution_count": 648,
   "id": "9a514c84",
   "metadata": {},
   "outputs": [],
   "source": [
    "def MSE(w,X,y_true, diff=False):\n",
    "    y_pred = np.empty((y_true.shape[0],))\n",
    "    for row in np.arange(X.shape[0]):\n",
    "        #z = np.array(X.iloc[row,:]).T @ w[:-1]- 1*w[-1]\n",
    "        y_pred[row] = (np.array(X.iloc[row,:]) @ w[:-1].T)+ 1*w[-1]\n",
    "        #print(np.array(X.iloc[row,:]) , w[:-1].T, 1*w[-1])\n",
    "        #break\n",
    "        \n",
    "    #MSE = ((np.array(lr.y_train).reshape(lr.y_train.shape[0],)-y_pred)**2)\n",
    "    if diff:\n",
    "        MSE = (np.array(lr.y_train).reshape(lr.y_train.shape[0],)-y_pred)\n",
    "        return MSE.mean()\n",
    "    else:\n",
    "        MSE = ((np.array(lr.y_train).reshape(lr.y_train.shape[0],)-y_pred)**2)\n",
    "        return MSE.mean()"
   ]
  },
  {
   "cell_type": "code",
   "execution_count": 649,
   "id": "d7819658",
   "metadata": {},
   "outputs": [
    {
     "data": {
      "text/plain": [
       "137.12486595147942"
      ]
     },
     "execution_count": 649,
     "metadata": {},
     "output_type": "execute_result"
    }
   ],
   "source": [
    "MSE(weights,lr.X_train,lr.y_train,diff=False)"
   ]
  },
  {
   "cell_type": "code",
   "execution_count": 650,
   "id": "a761e253",
   "metadata": {},
   "outputs": [],
   "source": [
    "a = MSE(weights,lr.X_train,lr.y_train,diff=True)"
   ]
  },
  {
   "cell_type": "code",
   "execution_count": 651,
   "id": "00deff33",
   "metadata": {},
   "outputs": [
    {
     "data": {
      "text/plain": [
       "array([ 1.50e-01, -1.71e-01,  5.20e-02,  5.73e-02, -1.02e-01,  2.59e-02,\n",
       "       -5.41e-02,  3.27e-03,  1.22e-01, -3.75e-02, -1.29e-02, -7.20e-02,\n",
       "        6.87e-02,  2.86e-02,  1.74e-02, -1.14e-01,  3.45e-02,  5.93e-02,\n",
       "       -6.83e-02,  1.77e-02,  3.92e-02,  1.11e-01, -7.01e-02,  6.47e-02,\n",
       "       -8.53e-02,  9.23e-01,  3.75e+01])"
      ]
     },
     "execution_count": 651,
     "metadata": {},
     "output_type": "execute_result"
    }
   ],
   "source": [
    "weights"
   ]
  },
  {
   "cell_type": "code",
   "execution_count": 652,
   "id": "b8be1fc0",
   "metadata": {},
   "outputs": [],
   "source": [
    "randw = np.random.randn(5,)"
   ]
  },
  {
   "cell_type": "code",
   "execution_count": 653,
   "id": "b1bc55ff",
   "metadata": {},
   "outputs": [],
   "source": [
    "def regess_GD(w,X,stepsz=0.00000001001):\n",
    "    gd_W = np.copy(w)\n",
    "    i=1\n",
    "    error = MSE(w,lr.X_train,lr.y_train,diff=False)\n",
    "    print(error,gd_W)\n",
    "    while(error>19):\n",
    "        for wt in np.arange(w.shape[0]-1):\n",
    "            gd_W[wt] = -1*stepsz*MSE(w,lr.X_train,lr.y_train,diff=True)*(X.iloc[:,wt].mean())\n",
    "            \n",
    "        gd_W[-1] = -1*stepsz*MSE(w,lr.X_train,lr.y_train,diff=True)\n",
    "         \n",
    "        error_n = MSE(gd_W,lr.X_train,lr.y_train,diff=False)\n",
    "        \n",
    "        if error_n<error:\n",
    "            print(\"Im here\")\n",
    "            error = error_n\n",
    "            stepsz -= a*345.27        #.000000512\n",
    "            \n",
    "        elif error_n==error:\n",
    "            print(\"equal\")\n",
    "            stepsz += a*3.45\n",
    "        \n",
    "        else:\n",
    "            error=error_n\n",
    "            stepsz *=  0.00001\n",
    "            print(\"Im in else\")\n",
    "            for wt in np.arange(w.shape[0]-1):\n",
    "                gd_W[wt] = 1*stepsz*MSE(w,lr.X_train,lr.y_train,diff=True)*(X.iloc[:,wt].mean())\n",
    "        \n",
    "            gd_W[-1] = 1*stepsz*MSE(w,lr.X_train,lr.y_train,diff=True)\n",
    "        \n",
    "        w=gd_W\n",
    "        \n",
    "        if error<2000:\n",
    "            \n",
    "            \n",
    "            \n",
    "            print(i,error_n)\n",
    "        i+=1\n",
    "        \n",
    "    return gd_W,error\n",
    "        "
   ]
  },
  {
   "cell_type": "code",
   "execution_count": 796,
   "id": "5602c412",
   "metadata": {},
   "outputs": [],
   "source": [
    "import autobnn as ab\n",
    "import jax\n",
    "model = ab.operators.Add(\n",
    "    bnns=(ab.kernels.PeriodicBNN(width=n_lags,period=n_lags),\n",
    "          ab.kernels.OneLayerBNN(width=n_lags, period=n_lags),\n",
    "          ab.kernels.LinearBNN(width=n_lags),\n",
    "          ab.kernels.MaternBNN(width=n_lags)))\n",
    "\n",
    "estimator = ab.estimators.AutoBnnMapEstimator(\n",
    "    model, 'normal_likelihood_logistic_noise', jax.random.PRNGKey(42),\n",
    "    periods=[n_lags])"
   ]
  },
  {
   "cell_type": "code",
   "execution_count": 54,
   "id": "726dfdcf",
   "metadata": {},
   "outputs": [],
   "source": [
    "from sklearn.model_selection import train_test_split"
   ]
  },
  {
   "cell_type": "code",
   "execution_count": 92,
   "id": "1126a4d4",
   "metadata": {},
   "outputs": [],
   "source": [
    "X = np.array(dff.drop(n_lags,axis=1))\n",
    "y = np.array(dff[n_lags])\n",
    "#estimator.fit(X[:-10], y)"
   ]
  },
  {
   "cell_type": "code",
   "execution_count": 93,
   "id": "2f5e48ff",
   "metadata": {},
   "outputs": [
    {
     "ename": "NameError",
     "evalue": "name 'estimator' is not defined",
     "output_type": "error",
     "traceback": [
      "\u001b[1;31m---------------------------------------------------------------------------\u001b[0m",
      "\u001b[1;31mNameError\u001b[0m                                 Traceback (most recent call last)",
      "Cell \u001b[1;32mIn[93], line 1\u001b[0m\n\u001b[1;32m----> 1\u001b[0m low, mid, high \u001b[38;5;241m=\u001b[39m \u001b[43mestimator\u001b[49m\u001b[38;5;241m.\u001b[39mpredict_quantiles(X[\u001b[38;5;241m-\u001b[39m\u001b[38;5;241m10\u001b[39m:],(\u001b[38;5;241m25\u001b[39m,\u001b[38;5;241m60\u001b[39m,\u001b[38;5;241m75\u001b[39m))\n\u001b[0;32m      2\u001b[0m p \u001b[38;5;241m=\u001b[39m estimator\u001b[38;5;241m.\u001b[39mpredict(X[\u001b[38;5;241m-\u001b[39m\u001b[38;5;241m10\u001b[39m:])\n",
      "\u001b[1;31mNameError\u001b[0m: name 'estimator' is not defined"
     ]
    }
   ],
   "source": [
    "low, mid, high = estimator.predict_quantiles(X[-10:],(25,60,75))\n",
    "p = estimator.predict(X[-10:])"
   ]
  },
  {
   "cell_type": "code",
   "execution_count": 94,
   "id": "2049a318",
   "metadata": {},
   "outputs": [
    {
     "ename": "NameError",
     "evalue": "name 'mid' is not defined",
     "output_type": "error",
     "traceback": [
      "\u001b[1;31m---------------------------------------------------------------------------\u001b[0m",
      "\u001b[1;31mNameError\u001b[0m                                 Traceback (most recent call last)",
      "Cell \u001b[1;32mIn[94], line 1\u001b[0m\n\u001b[1;32m----> 1\u001b[0m \u001b[38;5;28mprint\u001b[39m(np\u001b[38;5;241m.\u001b[39mmean((\u001b[38;5;28mabs\u001b[39m(np\u001b[38;5;241m.\u001b[39marray(df1\u001b[38;5;241m.\u001b[39mtail(\u001b[38;5;241m10\u001b[39m))\u001b[38;5;241m-\u001b[39m\u001b[43mmid\u001b[49m))))\n",
      "\u001b[1;31mNameError\u001b[0m: name 'mid' is not defined"
     ]
    }
   ],
   "source": [
    "print(np.mean((abs(np.array(df1.tail(10))-mid))))"
   ]
  },
  {
   "cell_type": "code",
   "execution_count": 95,
   "id": "2ca98f51",
   "metadata": {},
   "outputs": [
    {
     "ename": "NameError",
     "evalue": "name 'mid' is not defined",
     "output_type": "error",
     "traceback": [
      "\u001b[1;31m---------------------------------------------------------------------------\u001b[0m",
      "\u001b[1;31mNameError\u001b[0m                                 Traceback (most recent call last)",
      "Cell \u001b[1;32mIn[95], line 4\u001b[0m\n\u001b[0;32m      2\u001b[0m x \u001b[38;5;241m=\u001b[39m np\u001b[38;5;241m.\u001b[39marange(\u001b[38;5;241m1\u001b[39m,show\u001b[38;5;241m+\u001b[39m\u001b[38;5;241m1\u001b[39m)\n\u001b[0;32m      3\u001b[0m plt\u001b[38;5;241m.\u001b[39mplot(np\u001b[38;5;241m.\u001b[39marray(df1\u001b[38;5;241m.\u001b[39mtail(show)),c\u001b[38;5;241m=\u001b[39m\u001b[38;5;124m'\u001b[39m\u001b[38;5;124mk\u001b[39m\u001b[38;5;124m'\u001b[39m, alpha\u001b[38;5;241m=\u001b[39m\u001b[38;5;241m0.4\u001b[39m)\n\u001b[1;32m----> 4\u001b[0m plt\u001b[38;5;241m.\u001b[39mplot(\u001b[43mmid\u001b[49m,)\n\u001b[0;32m      5\u001b[0m plt\u001b[38;5;241m.\u001b[39mplot(low, \u001b[38;5;124m'\u001b[39m\u001b[38;5;124m--r\u001b[39m\u001b[38;5;124m'\u001b[39m)\n\u001b[0;32m      6\u001b[0m plt\u001b[38;5;241m.\u001b[39mplot(high, \u001b[38;5;124m'\u001b[39m\u001b[38;5;124m--g\u001b[39m\u001b[38;5;124m'\u001b[39m)\n",
      "\u001b[1;31mNameError\u001b[0m: name 'mid' is not defined"
     ]
    },
    {
     "data": {
      "image/png": "[encoded data removed]",
      "text/plain": [
       "<Figure size 800x550 with 1 Axes>"
      ]
     },
     "metadata": {},
     "output_type": "display_data"
    }
   ],
   "source": [
    "show = 10\n",
    "x = np.arange(1,show+1)\n",
    "plt.plot(np.array(df1.tail(show)),c='k', alpha=0.4)\n",
    "plt.plot(mid,)\n",
    "plt.plot(low, '--r')\n",
    "plt.plot(high, '--g')\n",
    "plt.title('AutoBNN')\n",
    "plt.legend(['Actual','Predicted','Lower','Upper'])"
   ]
  },
  {
   "cell_type": "code",
   "execution_count": 108,
   "id": "1e668bd1",
   "metadata": {},
   "outputs": [
    {
     "ename": "ValueError",
     "evalue": "Found input variables with inconsistent numbers of samples: [26, 224]",
     "output_type": "error",
     "traceback": [
      "\u001b[1;31m---------------------------------------------------------------------------\u001b[0m",
      "\u001b[1;31mValueError\u001b[0m                                Traceback (most recent call last)",
      "Cell \u001b[1;32mIn[108], line 1\u001b[0m\n\u001b[1;32m----> 1\u001b[0m X_train,X_test,y_train,y_test \u001b[38;5;241m=\u001b[39m \u001b[43mtrain_test_split\u001b[49m\u001b[43m(\u001b[49m\u001b[43mX\u001b[49m\u001b[43m[\u001b[49m\u001b[38;5;241;43m0\u001b[39;49m\u001b[43m]\u001b[49m\u001b[43m,\u001b[49m\u001b[43my\u001b[49m\u001b[43m,\u001b[49m\u001b[43m \u001b[49m\u001b[43mtest_size\u001b[49m\u001b[38;5;241;43m=\u001b[39;49m\u001b[38;5;241;43m10\u001b[39;49m\u001b[43m,\u001b[49m\u001b[43m \u001b[49m\u001b[43mshuffle\u001b[49m\u001b[38;5;241;43m=\u001b[39;49m\u001b[38;5;28;43;01mFalse\u001b[39;49;00m\u001b[43m,\u001b[49m\u001b[43m \u001b[49m\u001b[43mrandom_state\u001b[49m\u001b[38;5;241;43m=\u001b[39;49m\u001b[38;5;241;43m1001\u001b[39;49m\u001b[43m)\u001b[49m\n\u001b[0;32m      2\u001b[0m y_test\u001b[38;5;241m.\u001b[39mshape\n",
      "File \u001b[1;32mc:\\Users\\vinay\\AppData\\Local\\Programs\\Python\\Python310\\lib\\site-packages\\sklearn\\utils\\_param_validation.py:213\u001b[0m, in \u001b[0;36mvalidate_params.<locals>.decorator.<locals>.wrapper\u001b[1;34m(*args, **kwargs)\u001b[0m\n\u001b[0;32m    207\u001b[0m \u001b[38;5;28;01mtry\u001b[39;00m:\n\u001b[0;32m    208\u001b[0m     \u001b[38;5;28;01mwith\u001b[39;00m config_context(\n\u001b[0;32m    209\u001b[0m         skip_parameter_validation\u001b[38;5;241m=\u001b[39m(\n\u001b[0;32m    210\u001b[0m             prefer_skip_nested_validation \u001b[38;5;129;01mor\u001b[39;00m global_skip_validation\n\u001b[0;32m    211\u001b[0m         )\n\u001b[0;32m    212\u001b[0m     ):\n\u001b[1;32m--> 213\u001b[0m         \u001b[38;5;28;01mreturn\u001b[39;00m func(\u001b[38;5;241m*\u001b[39margs, \u001b[38;5;241m*\u001b[39m\u001b[38;5;241m*\u001b[39mkwargs)\n\u001b[0;32m    214\u001b[0m \u001b[38;5;28;01mexcept\u001b[39;00m InvalidParameterError \u001b[38;5;28;01mas\u001b[39;00m e:\n\u001b[0;32m    215\u001b[0m     \u001b[38;5;66;03m# When the function is just a wrapper around an estimator, we allow\u001b[39;00m\n\u001b[0;32m    216\u001b[0m     \u001b[38;5;66;03m# the function to delegate validation to the estimator, but we replace\u001b[39;00m\n\u001b[0;32m    217\u001b[0m     \u001b[38;5;66;03m# the name of the estimator by the name of the function in the error\u001b[39;00m\n\u001b[0;32m    218\u001b[0m     \u001b[38;5;66;03m# message to avoid confusion.\u001b[39;00m\n\u001b[0;32m    219\u001b[0m     msg \u001b[38;5;241m=\u001b[39m re\u001b[38;5;241m.\u001b[39msub(\n\u001b[0;32m    220\u001b[0m         \u001b[38;5;124mr\u001b[39m\u001b[38;5;124m\"\u001b[39m\u001b[38;5;124mparameter of \u001b[39m\u001b[38;5;124m\\\u001b[39m\u001b[38;5;124mw+ must be\u001b[39m\u001b[38;5;124m\"\u001b[39m,\n\u001b[0;32m    221\u001b[0m         \u001b[38;5;124mf\u001b[39m\u001b[38;5;124m\"\u001b[39m\u001b[38;5;124mparameter of \u001b[39m\u001b[38;5;132;01m{\u001b[39;00mfunc\u001b[38;5;241m.\u001b[39m\u001b[38;5;18m__qualname__\u001b[39m\u001b[38;5;132;01m}\u001b[39;00m\u001b[38;5;124m must be\u001b[39m\u001b[38;5;124m\"\u001b[39m,\n\u001b[0;32m    222\u001b[0m         \u001b[38;5;28mstr\u001b[39m(e),\n\u001b[0;32m    223\u001b[0m     )\n",
      "File \u001b[1;32mc:\\Users\\vinay\\AppData\\Local\\Programs\\Python\\Python310\\lib\\site-packages\\sklearn\\model_selection\\_split.py:2657\u001b[0m, in \u001b[0;36mtrain_test_split\u001b[1;34m(test_size, train_size, random_state, shuffle, stratify, *arrays)\u001b[0m\n\u001b[0;32m   2654\u001b[0m \u001b[38;5;28;01mif\u001b[39;00m n_arrays \u001b[38;5;241m==\u001b[39m \u001b[38;5;241m0\u001b[39m:\n\u001b[0;32m   2655\u001b[0m     \u001b[38;5;28;01mraise\u001b[39;00m \u001b[38;5;167;01mValueError\u001b[39;00m(\u001b[38;5;124m\"\u001b[39m\u001b[38;5;124mAt least one array required as input\u001b[39m\u001b[38;5;124m\"\u001b[39m)\n\u001b[1;32m-> 2657\u001b[0m arrays \u001b[38;5;241m=\u001b[39m \u001b[43mindexable\u001b[49m\u001b[43m(\u001b[49m\u001b[38;5;241;43m*\u001b[39;49m\u001b[43marrays\u001b[49m\u001b[43m)\u001b[49m\n\u001b[0;32m   2659\u001b[0m n_samples \u001b[38;5;241m=\u001b[39m _num_samples(arrays[\u001b[38;5;241m0\u001b[39m])\n\u001b[0;32m   2660\u001b[0m n_train, n_test \u001b[38;5;241m=\u001b[39m _validate_shuffle_split(\n\u001b[0;32m   2661\u001b[0m     n_samples, test_size, train_size, default_test_size\u001b[38;5;241m=\u001b[39m\u001b[38;5;241m0.25\u001b[39m\n\u001b[0;32m   2662\u001b[0m )\n",
      "File \u001b[1;32mc:\\Users\\vinay\\AppData\\Local\\Programs\\Python\\Python310\\lib\\site-packages\\sklearn\\utils\\validation.py:476\u001b[0m, in \u001b[0;36mindexable\u001b[1;34m(*iterables)\u001b[0m\n\u001b[0;32m    457\u001b[0m \u001b[38;5;250m\u001b[39m\u001b[38;5;124;03m\"\"\"Make arrays indexable for cross-validation.\u001b[39;00m\n\u001b[0;32m    458\u001b[0m \n\u001b[0;32m    459\u001b[0m \u001b[38;5;124;03mChecks consistent length, passes through None, and ensures that everything\u001b[39;00m\n\u001b[1;32m   (...)\u001b[0m\n\u001b[0;32m    472\u001b[0m \u001b[38;5;124;03m    sparse matrix, or dataframe) or `None`.\u001b[39;00m\n\u001b[0;32m    473\u001b[0m \u001b[38;5;124;03m\"\"\"\u001b[39;00m\n\u001b[0;32m    475\u001b[0m result \u001b[38;5;241m=\u001b[39m [_make_indexable(X) \u001b[38;5;28;01mfor\u001b[39;00m X \u001b[38;5;129;01min\u001b[39;00m iterables]\n\u001b[1;32m--> 476\u001b[0m \u001b[43mcheck_consistent_length\u001b[49m\u001b[43m(\u001b[49m\u001b[38;5;241;43m*\u001b[39;49m\u001b[43mresult\u001b[49m\u001b[43m)\u001b[49m\n\u001b[0;32m    477\u001b[0m \u001b[38;5;28;01mreturn\u001b[39;00m result\n",
      "File \u001b[1;32mc:\\Users\\vinay\\AppData\\Local\\Programs\\Python\\Python310\\lib\\site-packages\\sklearn\\utils\\validation.py:430\u001b[0m, in \u001b[0;36mcheck_consistent_length\u001b[1;34m(*arrays)\u001b[0m\n\u001b[0;32m    428\u001b[0m uniques \u001b[38;5;241m=\u001b[39m np\u001b[38;5;241m.\u001b[39munique(lengths)\n\u001b[0;32m    429\u001b[0m \u001b[38;5;28;01mif\u001b[39;00m \u001b[38;5;28mlen\u001b[39m(uniques) \u001b[38;5;241m>\u001b[39m \u001b[38;5;241m1\u001b[39m:\n\u001b[1;32m--> 430\u001b[0m     \u001b[38;5;28;01mraise\u001b[39;00m \u001b[38;5;167;01mValueError\u001b[39;00m(\n\u001b[0;32m    431\u001b[0m         \u001b[38;5;124m\"\u001b[39m\u001b[38;5;124mFound input variables with inconsistent numbers of samples: \u001b[39m\u001b[38;5;132;01m%r\u001b[39;00m\u001b[38;5;124m\"\u001b[39m\n\u001b[0;32m    432\u001b[0m         \u001b[38;5;241m%\u001b[39m [\u001b[38;5;28mint\u001b[39m(l) \u001b[38;5;28;01mfor\u001b[39;00m l \u001b[38;5;129;01min\u001b[39;00m lengths]\n\u001b[0;32m    433\u001b[0m     )\n",
      "\u001b[1;31mValueError\u001b[0m: Found input variables with inconsistent numbers of samples: [26, 224]"
     ]
    }
   ],
   "source": [
    "X_train,X_test,y_train,y_test = train_test_split(X[0],y, test_size=10, shuffle=False, random_state=1001)\n",
    "y_test.shape"
   ]
  },
  {
   "cell_type": "code",
   "execution_count": 152,
   "id": "9772a2c6",
   "metadata": {},
   "outputs": [
    {
     "data": {
      "text/plain": [
       "[<matplotlib.lines.Line2D at 0x26220927460>]"
      ]
     },
     "execution_count": 152,
     "metadata": {},
     "output_type": "execute_result"
    },
    {
     "data": {
      "image/png": "[encoded data removed]",
      "text/plain": [
       "<Figure size 800x550 with 1 Axes>"
      ]
     },
     "metadata": {},
     "output_type": "display_data"
    }
   ],
   "source": [
    "plt.plot(y_test)\n",
    "plt.plot(l[1:])"
   ]
  },
  {
   "cell_type": "code",
   "execution_count": 154,
   "id": "5ea2b887",
   "metadata": {},
   "outputs": [
    {
     "data": {
      "text/plain": [
       "3.943139810918486"
      ]
     },
     "execution_count": 154,
     "metadata": {},
     "output_type": "execute_result"
    }
   ],
   "source": [
    "np.mean(abs(l[1:]-y_test[:-1]))"
   ]
  },
  {
   "cell_type": "code",
   "execution_count": null,
   "id": "16d7baf7",
   "metadata": {},
   "outputs": [],
   "source": []
  }
 ],
 "metadata": {
  "kernelspec": {
   "display_name": "Python 3 (ipykernel)",
   "language": "python",
   "name": "python3"
  },
  "language_info": {
   "codemirror_mode": {
    "name": "ipython",
    "version": 3
   },
   "file_extension": ".py",
   "mimetype": "text/x-python",
   "name": "python",
   "nbconvert_exporter": "python",
   "pygments_lexer": "ipython3",
   "version": "3.10.11"
  }
 },
 "nbformat": 4,
 "nbformat_minor": 5
}
